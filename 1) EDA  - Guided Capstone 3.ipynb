{
 "cells": [
  {
   "cell_type": "markdown",
   "id": "aba0c686",
   "metadata": {},
   "source": [
    "### Springboard Data Science - Capstone 3"
   ]
  },
  {
   "cell_type": "markdown",
   "id": "04b464ca",
   "metadata": {},
   "source": [
    "#### Sentimental Analysis - Exploratory Data Analysis"
   ]
  },
  {
   "cell_type": "code",
   "execution_count": 1,
   "id": "1c32ca93",
   "metadata": {},
   "outputs": [],
   "source": [
    "import pandas as pd\n",
    "\n",
    "path = \"C:\\\\Users\\\\hanna\\\\OneDrive\\\\Desktop\\\\All Folders\\\\Data Science\\\\SpringBoard\\\\Capstone 3\\\\hotels_post_datawrangling.csv\"\n",
    "\n",
    "hotels = pd.read_csv(path)"
   ]
  },
  {
   "cell_type": "code",
   "execution_count": 2,
   "id": "a3d02156",
   "metadata": {},
   "outputs": [
    {
     "name": "stdout",
     "output_type": "stream",
     "text": [
      "<class 'pandas.core.frame.DataFrame'>\n",
      "RangeIndex: 515738 entries, 0 to 515737\n",
      "Data columns (total 18 columns):\n",
      "Hotel_Address                                 515738 non-null object\n",
      "Average_Score                                 515738 non-null float64\n",
      "Hotel_Name                                    515738 non-null object\n",
      "Reviewer_Nationality                          515738 non-null object\n",
      "Negative_Review                               515738 non-null object\n",
      "Total_Number_of_Reviews                       515738 non-null int64\n",
      "Positive_Review                               515738 non-null object\n",
      "Total_Number_of_Reviews_Reviewer_Has_Given    515738 non-null int64\n",
      "Reviewer_Score                                515738 non-null float64\n",
      "days_since_review                             515738 non-null object\n",
      "lat                                           512470 non-null float64\n",
      "lng                                           512470 non-null float64\n",
      "Month                                         515738 non-null int64\n",
      "Year                                          515738 non-null int64\n",
      "Day                                           515738 non-null int64\n",
      "country                                       515738 non-null object\n",
      "Trip_type                                     515738 non-null float64\n",
      "Group_type                                    515738 non-null int64\n",
      "dtypes: float64(5), int64(6), object(7)\n",
      "memory usage: 57.1+ MB\n"
     ]
    }
   ],
   "source": [
    "hotels.info()"
   ]
  },
  {
   "cell_type": "code",
   "execution_count": 3,
   "id": "c85eef4a",
   "metadata": {},
   "outputs": [
    {
     "data": {
      "text/html": [
       "<div>\n",
       "<style scoped>\n",
       "    .dataframe tbody tr th:only-of-type {\n",
       "        vertical-align: middle;\n",
       "    }\n",
       "\n",
       "    .dataframe tbody tr th {\n",
       "        vertical-align: top;\n",
       "    }\n",
       "\n",
       "    .dataframe thead th {\n",
       "        text-align: right;\n",
       "    }\n",
       "</style>\n",
       "<table border=\"1\" class=\"dataframe\">\n",
       "  <thead>\n",
       "    <tr style=\"text-align: right;\">\n",
       "      <th></th>\n",
       "      <th>Hotel_Address</th>\n",
       "      <th>Average_Score</th>\n",
       "      <th>Hotel_Name</th>\n",
       "      <th>Reviewer_Nationality</th>\n",
       "      <th>Negative_Review</th>\n",
       "      <th>Total_Number_of_Reviews</th>\n",
       "      <th>Positive_Review</th>\n",
       "      <th>Total_Number_of_Reviews_Reviewer_Has_Given</th>\n",
       "      <th>Reviewer_Score</th>\n",
       "      <th>days_since_review</th>\n",
       "      <th>lat</th>\n",
       "      <th>lng</th>\n",
       "      <th>Month</th>\n",
       "      <th>Year</th>\n",
       "      <th>Day</th>\n",
       "      <th>country</th>\n",
       "      <th>Trip_type</th>\n",
       "      <th>Group_type</th>\n",
       "    </tr>\n",
       "  </thead>\n",
       "  <tbody>\n",
       "    <tr>\n",
       "      <th>0</th>\n",
       "      <td>s Gravesandestraat 55 Oost 1092 AA Amsterdam ...</td>\n",
       "      <td>7.7</td>\n",
       "      <td>Hotel Arena</td>\n",
       "      <td>Russia</td>\n",
       "      <td>I am so angry that i made this post available...</td>\n",
       "      <td>1403</td>\n",
       "      <td>Only the park outside of the hotel was beauti...</td>\n",
       "      <td>7</td>\n",
       "      <td>2.9</td>\n",
       "      <td>0 days</td>\n",
       "      <td>52.360576</td>\n",
       "      <td>4.915968</td>\n",
       "      <td>8</td>\n",
       "      <td>2017</td>\n",
       "      <td>3</td>\n",
       "      <td>Netherlands</td>\n",
       "      <td>1.0</td>\n",
       "      <td>2</td>\n",
       "    </tr>\n",
       "    <tr>\n",
       "      <th>1</th>\n",
       "      <td>s Gravesandestraat 55 Oost 1092 AA Amsterdam ...</td>\n",
       "      <td>7.7</td>\n",
       "      <td>Hotel Arena</td>\n",
       "      <td>Ireland</td>\n",
       "      <td>No Negative</td>\n",
       "      <td>1403</td>\n",
       "      <td>No real complaints the hotel was great great ...</td>\n",
       "      <td>7</td>\n",
       "      <td>7.5</td>\n",
       "      <td>0 days</td>\n",
       "      <td>52.360576</td>\n",
       "      <td>4.915968</td>\n",
       "      <td>8</td>\n",
       "      <td>2017</td>\n",
       "      <td>3</td>\n",
       "      <td>Netherlands</td>\n",
       "      <td>1.0</td>\n",
       "      <td>2</td>\n",
       "    </tr>\n",
       "    <tr>\n",
       "      <th>2</th>\n",
       "      <td>s Gravesandestraat 55 Oost 1092 AA Amsterdam ...</td>\n",
       "      <td>7.7</td>\n",
       "      <td>Hotel Arena</td>\n",
       "      <td>Australia</td>\n",
       "      <td>Rooms are nice but for elderly a bit difficul...</td>\n",
       "      <td>1403</td>\n",
       "      <td>Location was good and staff were ok It is cut...</td>\n",
       "      <td>9</td>\n",
       "      <td>7.1</td>\n",
       "      <td>3 days</td>\n",
       "      <td>52.360576</td>\n",
       "      <td>4.915968</td>\n",
       "      <td>7</td>\n",
       "      <td>2017</td>\n",
       "      <td>31</td>\n",
       "      <td>Netherlands</td>\n",
       "      <td>1.0</td>\n",
       "      <td>4</td>\n",
       "    </tr>\n",
       "  </tbody>\n",
       "</table>\n",
       "</div>"
      ],
      "text/plain": [
       "                                       Hotel_Address  Average_Score  \\\n",
       "0   s Gravesandestraat 55 Oost 1092 AA Amsterdam ...            7.7   \n",
       "1   s Gravesandestraat 55 Oost 1092 AA Amsterdam ...            7.7   \n",
       "2   s Gravesandestraat 55 Oost 1092 AA Amsterdam ...            7.7   \n",
       "\n",
       "    Hotel_Name Reviewer_Nationality  \\\n",
       "0  Hotel Arena              Russia    \n",
       "1  Hotel Arena             Ireland    \n",
       "2  Hotel Arena           Australia    \n",
       "\n",
       "                                     Negative_Review  Total_Number_of_Reviews  \\\n",
       "0   I am so angry that i made this post available...                     1403   \n",
       "1                                        No Negative                     1403   \n",
       "2   Rooms are nice but for elderly a bit difficul...                     1403   \n",
       "\n",
       "                                     Positive_Review  \\\n",
       "0   Only the park outside of the hotel was beauti...   \n",
       "1   No real complaints the hotel was great great ...   \n",
       "2   Location was good and staff were ok It is cut...   \n",
       "\n",
       "   Total_Number_of_Reviews_Reviewer_Has_Given  Reviewer_Score  \\\n",
       "0                                           7             2.9   \n",
       "1                                           7             7.5   \n",
       "2                                           9             7.1   \n",
       "\n",
       "  days_since_review        lat       lng  Month  Year  Day      country  \\\n",
       "0            0 days  52.360576  4.915968      8  2017    3  Netherlands   \n",
       "1            0 days  52.360576  4.915968      8  2017    3  Netherlands   \n",
       "2            3 days  52.360576  4.915968      7  2017   31  Netherlands   \n",
       "\n",
       "   Trip_type  Group_type  \n",
       "0        1.0           2  \n",
       "1        1.0           2  \n",
       "2        1.0           4  "
      ]
     },
     "execution_count": 3,
     "metadata": {},
     "output_type": "execute_result"
    }
   ],
   "source": [
    "hotels.head(3)"
   ]
  },
  {
   "cell_type": "code",
   "execution_count": 4,
   "id": "bd32fecf",
   "metadata": {},
   "outputs": [
    {
     "data": {
      "text/plain": [
       "1492"
      ]
     },
     "execution_count": 4,
     "metadata": {},
     "output_type": "execute_result"
    }
   ],
   "source": [
    "len(hotels.Hotel_Name.value_counts())"
   ]
  },
  {
   "cell_type": "markdown",
   "id": "a1b26cb2",
   "metadata": {},
   "source": [
    "Which were the hotels with the most and least reviews"
   ]
  },
  {
   "cell_type": "code",
   "execution_count": 5,
   "id": "fe29e07d",
   "metadata": {},
   "outputs": [
    {
     "data": {
      "text/plain": [
       "<AxesSubplot:>"
      ]
     },
     "execution_count": 5,
     "metadata": {},
     "output_type": "execute_result"
    },
    {
     "data": {
      "image/png": "[encoded data removed]",
      "text/plain": [
       "<Figure size 720x576 with 1 Axes>"
      ]
     },
     "metadata": {
      "needs_background": "light"
     },
     "output_type": "display_data"
    }
   ],
   "source": [
    "import matplotlib.pyplot as plt\n",
    "import seaborn as sns\n",
    "\n",
    "top_15_hotel = hotels.Hotel_Name.value_counts(ascending=False)[:15]\n",
    "bottom_15_hotel = hotels.Hotel_Name.value_counts(ascending=True)[:15]\n",
    "\n",
    "top_15_hotel.plot.barh(figsize = (10,8))\n",
    "\n"
   ]
  },
  {
   "cell_type": "code",
   "execution_count": 6,
   "id": "dd9bc35b",
   "metadata": {},
   "outputs": [
    {
     "data": {
      "text/plain": [
       "<AxesSubplot:>"
      ]
     },
     "execution_count": 6,
     "metadata": {},
     "output_type": "execute_result"
    },
    {
     "data": {
      "image/png": "[encoded data removed]",
      "text/plain": [
       "<Figure size 720x576 with 1 Axes>"
      ]
     },
     "metadata": {
      "needs_background": "light"
     },
     "output_type": "display_data"
    }
   ],
   "source": [
    "bottom_15_hotel.plot.barh(figsize = (10,8), color = 'red')\n"
   ]
  },
  {
   "cell_type": "markdown",
   "id": "743861f3",
   "metadata": {},
   "source": [
    "Q) What was the Average Score of a Reviewer? We can be curious about this to find the credibility of the reviewer."
   ]
  },
  {
   "cell_type": "markdown",
   "id": "39d40db1",
   "metadata": {},
   "source": [
    "df.astype(int) will round our values to zero. so for example, 2.9 will be 2, and 2.3 will be 2. Hence, df.round(0).astype(int) fixes that issue for us. 2.9 will round to 3, and 2.3 will round to 2"
   ]
  },
  {
   "cell_type": "code",
   "execution_count": 7,
   "id": "2eed95ae",
   "metadata": {},
   "outputs": [],
   "source": [
    "means = hotels['Reviewer_Score'].mean()"
   ]
  },
  {
   "cell_type": "code",
   "execution_count": 8,
   "id": "955a6822",
   "metadata": {},
   "outputs": [
    {
     "data": {
      "text/plain": [
       "<matplotlib.lines.Line2D at 0x13d5f8c8>"
      ]
     },
     "execution_count": 8,
     "metadata": {},
     "output_type": "execute_result"
    },
    {
     "data": {
      "image/png": "[encoded data removed]",
      "text/plain": [
       "<Figure size 432x288 with 1 Axes>"
      ]
     },
     "metadata": {
      "needs_background": "light"
     },
     "output_type": "display_data"
    }
   ],
   "source": [
    "hotels['Review_score_int'] = hotels['Reviewer_Score'].round(0).astype(int)\n",
    "\n",
    "Reviewer_order = hotels['Review_score_int'].value_counts().sort_index()\n",
    "Reviewer_order.plot.barh()\n",
    "plt.axhline(y = means, color = 'black', lw = 2)\n",
    "\n",
    "\n",
    "# Adding a horizontal line to show mean."
   ]
  },
  {
   "cell_type": "markdown",
   "id": "92c4ccb5",
   "metadata": {},
   "source": [
    "Almost 375k+ reviews came from reviewer with a score 8 or more, meaning that we have a lot of credible reviewers. "
   ]
  },
  {
   "cell_type": "markdown",
   "id": "234672c5",
   "metadata": {},
   "source": [
    "We might be curious on the reviews based on the reviewer nationality. Now since during data wrangling we saw that we have more than 150+ nationalities, we can filter out nationalities based on the amount of reviews, we can set a threshold, say if a nationality gave more than 5000 reviews, we want to see the average score for it."
   ]
  },
  {
   "cell_type": "code",
   "execution_count": 9,
   "id": "97f4f7de",
   "metadata": {},
   "outputs": [
    {
     "data": {
      "text/html": [
       "<div>\n",
       "<style scoped>\n",
       "    .dataframe tbody tr th:only-of-type {\n",
       "        vertical-align: middle;\n",
       "    }\n",
       "\n",
       "    .dataframe tbody tr th {\n",
       "        vertical-align: top;\n",
       "    }\n",
       "\n",
       "    .dataframe thead th {\n",
       "        text-align: right;\n",
       "    }\n",
       "</style>\n",
       "<table border=\"1\" class=\"dataframe\">\n",
       "  <thead>\n",
       "    <tr style=\"text-align: right;\">\n",
       "      <th></th>\n",
       "      <th>Count</th>\n",
       "      <th>reviews_mean</th>\n",
       "    </tr>\n",
       "    <tr>\n",
       "      <th>Reviewer_Nationality</th>\n",
       "      <th></th>\n",
       "      <th></th>\n",
       "    </tr>\n",
       "  </thead>\n",
       "  <tbody>\n",
       "    <tr>\n",
       "      <th></th>\n",
       "      <td>523</td>\n",
       "      <td>8.008222</td>\n",
       "    </tr>\n",
       "    <tr>\n",
       "      <th>Abkhazia Georgia</th>\n",
       "      <td>153</td>\n",
       "      <td>8.354248</td>\n",
       "    </tr>\n",
       "    <tr>\n",
       "      <th>Afghanistan</th>\n",
       "      <td>8</td>\n",
       "      <td>6.875000</td>\n",
       "    </tr>\n",
       "    <tr>\n",
       "      <th>Albania</th>\n",
       "      <td>286</td>\n",
       "      <td>8.250350</td>\n",
       "    </tr>\n",
       "    <tr>\n",
       "      <th>Algeria</th>\n",
       "      <td>100</td>\n",
       "      <td>7.777000</td>\n",
       "    </tr>\n",
       "    <tr>\n",
       "      <th>...</th>\n",
       "      <td>...</td>\n",
       "      <td>...</td>\n",
       "    </tr>\n",
       "    <tr>\n",
       "      <th>Vietnam</th>\n",
       "      <td>187</td>\n",
       "      <td>8.083957</td>\n",
       "    </tr>\n",
       "    <tr>\n",
       "      <th>Wallis and Futuna</th>\n",
       "      <td>2</td>\n",
       "      <td>7.300000</td>\n",
       "    </tr>\n",
       "    <tr>\n",
       "      <th>Yemen</th>\n",
       "      <td>16</td>\n",
       "      <td>8.112500</td>\n",
       "    </tr>\n",
       "    <tr>\n",
       "      <th>Zambia</th>\n",
       "      <td>37</td>\n",
       "      <td>8.208108</td>\n",
       "    </tr>\n",
       "    <tr>\n",
       "      <th>Zimbabwe</th>\n",
       "      <td>51</td>\n",
       "      <td>7.905882</td>\n",
       "    </tr>\n",
       "  </tbody>\n",
       "</table>\n",
       "<p>227 rows × 2 columns</p>\n",
       "</div>"
      ],
      "text/plain": [
       "                      Count  reviews_mean\n",
       "Reviewer_Nationality                     \n",
       "                        523      8.008222\n",
       " Abkhazia Georgia       153      8.354248\n",
       " Afghanistan              8      6.875000\n",
       " Albania                286      8.250350\n",
       " Algeria                100      7.777000\n",
       "...                     ...           ...\n",
       " Vietnam                187      8.083957\n",
       " Wallis and Futuna        2      7.300000\n",
       " Yemen                   16      8.112500\n",
       " Zambia                  37      8.208108\n",
       " Zimbabwe                51      7.905882\n",
       "\n",
       "[227 rows x 2 columns]"
      ]
     },
     "execution_count": 9,
     "metadata": {},
     "output_type": "execute_result"
    }
   ],
   "source": [
    "Nationality_pivot = hotels.pivot_table(values = \"Reviewer_Score\", index = \"Reviewer_Nationality\", aggfunc=[\"count\",\"mean\"])\n",
    "# Nationality_pivot\n",
    "\n",
    "Nationality_pivot.columns = ['Count', 'reviews_mean']\n",
    "Nationality_pivot"
   ]
  },
  {
   "cell_type": "code",
   "execution_count": 10,
   "id": "3f3873a6",
   "metadata": {},
   "outputs": [
    {
     "data": {
      "text/html": [
       "<div>\n",
       "<style scoped>\n",
       "    .dataframe tbody tr th:only-of-type {\n",
       "        vertical-align: middle;\n",
       "    }\n",
       "\n",
       "    .dataframe tbody tr th {\n",
       "        vertical-align: top;\n",
       "    }\n",
       "\n",
       "    .dataframe thead th {\n",
       "        text-align: right;\n",
       "    }\n",
       "</style>\n",
       "<table border=\"1\" class=\"dataframe\">\n",
       "  <thead>\n",
       "    <tr style=\"text-align: right;\">\n",
       "      <th></th>\n",
       "      <th>Count</th>\n",
       "      <th>reviews_mean</th>\n",
       "    </tr>\n",
       "    <tr>\n",
       "      <th>Reviewer_Nationality</th>\n",
       "      <th></th>\n",
       "      <th></th>\n",
       "    </tr>\n",
       "  </thead>\n",
       "  <tbody>\n",
       "    <tr>\n",
       "      <th>United States of America</th>\n",
       "      <td>35437</td>\n",
       "      <td>8.786999</td>\n",
       "    </tr>\n",
       "    <tr>\n",
       "      <th>Israel</th>\n",
       "      <td>6610</td>\n",
       "      <td>8.694448</td>\n",
       "    </tr>\n",
       "    <tr>\n",
       "      <th>Australia</th>\n",
       "      <td>21686</td>\n",
       "      <td>8.591718</td>\n",
       "    </tr>\n",
       "    <tr>\n",
       "      <th>Canada</th>\n",
       "      <td>7894</td>\n",
       "      <td>8.547783</td>\n",
       "    </tr>\n",
       "    <tr>\n",
       "      <th>United Kingdom</th>\n",
       "      <td>245246</td>\n",
       "      <td>8.486352</td>\n",
       "    </tr>\n",
       "    <tr>\n",
       "      <th>Ireland</th>\n",
       "      <td>14827</td>\n",
       "      <td>8.464052</td>\n",
       "    </tr>\n",
       "    <tr>\n",
       "      <th>Belgium</th>\n",
       "      <td>6031</td>\n",
       "      <td>8.174067</td>\n",
       "    </tr>\n",
       "    <tr>\n",
       "      <th>Switzerland</th>\n",
       "      <td>8678</td>\n",
       "      <td>8.161593</td>\n",
       "    </tr>\n",
       "    <tr>\n",
       "      <th>France</th>\n",
       "      <td>7296</td>\n",
       "      <td>8.145011</td>\n",
       "    </tr>\n",
       "    <tr>\n",
       "      <th>Germany</th>\n",
       "      <td>7941</td>\n",
       "      <td>8.132477</td>\n",
       "    </tr>\n",
       "    <tr>\n",
       "      <th>Netherlands</th>\n",
       "      <td>8772</td>\n",
       "      <td>8.125148</td>\n",
       "    </tr>\n",
       "    <tr>\n",
       "      <th>Italy</th>\n",
       "      <td>6114</td>\n",
       "      <td>8.114557</td>\n",
       "    </tr>\n",
       "    <tr>\n",
       "      <th>Turkey</th>\n",
       "      <td>5444</td>\n",
       "      <td>8.003380</td>\n",
       "    </tr>\n",
       "    <tr>\n",
       "      <th>Saudi Arabia</th>\n",
       "      <td>8951</td>\n",
       "      <td>7.881767</td>\n",
       "    </tr>\n",
       "    <tr>\n",
       "      <th>United Arab Emirates</th>\n",
       "      <td>10235</td>\n",
       "      <td>7.878828</td>\n",
       "    </tr>\n",
       "  </tbody>\n",
       "</table>\n",
       "</div>"
      ],
      "text/plain": [
       "                             Count  reviews_mean\n",
       "Reviewer_Nationality                            \n",
       " United States of America    35437      8.786999\n",
       " Israel                       6610      8.694448\n",
       " Australia                   21686      8.591718\n",
       " Canada                       7894      8.547783\n",
       " United Kingdom             245246      8.486352\n",
       " Ireland                     14827      8.464052\n",
       " Belgium                      6031      8.174067\n",
       " Switzerland                  8678      8.161593\n",
       " France                       7296      8.145011\n",
       " Germany                      7941      8.132477\n",
       " Netherlands                  8772      8.125148\n",
       " Italy                        6114      8.114557\n",
       " Turkey                       5444      8.003380\n",
       " Saudi Arabia                 8951      7.881767\n",
       " United Arab Emirates        10235      7.878828"
      ]
     },
     "execution_count": 10,
     "metadata": {},
     "output_type": "execute_result"
    }
   ],
   "source": [
    "Nationality_pivot[Nationality_pivot['Count']>5000].sort_values(by = 'reviews_mean', ascending=False)"
   ]
  },
  {
   "cell_type": "code",
   "execution_count": 11,
   "id": "bfe7e0d8",
   "metadata": {},
   "outputs": [
    {
     "data": {
      "text/plain": [
       "Text(0.5, 1.0, 'Review Count by Country')"
      ]
     },
     "execution_count": 11,
     "metadata": {},
     "output_type": "execute_result"
    },
    {
     "data": {
      "image/png": "[encoded data removed]",
      "text/plain": [
       "<Figure size 576x432 with 1 Axes>"
      ]
     },
     "metadata": {
      "needs_background": "light"
     },
     "output_type": "display_data"
    }
   ],
   "source": [
    "only_reviews = Nationality_pivot[Nationality_pivot['Count']>5000]['Count'].sort_values(ascending=False)\n",
    "only_reviews.plot.barh(color = 'green', figsize = (8,6))\n",
    "plt.title('Review Count by Country')"
   ]
  },
  {
   "cell_type": "markdown",
   "id": "f54cb467",
   "metadata": {},
   "source": [
    "The lowest average given that the nation had 5000 or more reviews came from countries that did not have English as their first language. English speaking countries not only had the most reviews, but 4 out of 5 countries that have the highest review score were also English speaking countries."
   ]
  },
  {
   "cell_type": "code",
   "execution_count": 12,
   "id": "88e8a7bb",
   "metadata": {},
   "outputs": [
    {
     "data": {
      "text/plain": [
       "<AxesSubplot:>"
      ]
     },
     "execution_count": 12,
     "metadata": {},
     "output_type": "execute_result"
    },
    {
     "data": {
      "image/png": "[encoded data removed]",
      "text/plain": [
       "<Figure size 576x432 with 1 Axes>"
      ]
     },
     "metadata": {
      "needs_background": "light"
     },
     "output_type": "display_data"
    }
   ],
   "source": [
    "hotels['Group_type'].value_counts().plot.barh(figsize= (8,6))\n",
    "\n",
    "#IGNORE"
   ]
  },
  {
   "cell_type": "markdown",
   "id": "9ac2a0d8",
   "metadata": {},
   "source": [
    "Only 100k+ reviews came from person who went to vacation solo. The rest of the reviews came from people with a group of 2 or more, whether a couple, group, or families."
   ]
  },
  {
   "cell_type": "code",
   "execution_count": 13,
   "id": "34cdc2ee",
   "metadata": {},
   "outputs": [
    {
     "data": {
      "text/plain": [
       "Text(0.5, 1.0, 'Average Score by Country')"
      ]
     },
     "execution_count": 13,
     "metadata": {},
     "output_type": "execute_result"
    },
    {
     "data": {
      "image/png": "[encoded data removed]",
      "text/plain": [
       "<Figure size 720x576 with 1 Axes>"
      ]
     },
     "metadata": {},
     "output_type": "display_data"
    }
   ],
   "source": [
    "sns.set_style(\"whitegrid\")\n",
    "plt.figure(figsize = (10, 8))\n",
    "sns.boxplot(x = 'country', y='Average_Score', data = hotels)\n",
    "plt.title('Average Score by Country')"
   ]
  },
  {
   "cell_type": "markdown",
   "id": "81ffc0c5",
   "metadata": {},
   "source": [
    "The score distribution between countries have a little to no difference in the mean aspect of scores. Besides, we see that French, Spanish, and Austrian hotels have the same scores, just a little above than the rest. "
   ]
  },
  {
   "cell_type": "markdown",
   "id": "6aad0fb9",
   "metadata": {},
   "source": [
    "Which Country put of the 6 had the most number of hotels? Remember UK hotel reviews account for 50% of the data, howver let us see which country has the most amount of hotels."
   ]
  },
  {
   "cell_type": "code",
   "execution_count": 14,
   "id": "2f1979d6",
   "metadata": {},
   "outputs": [
    {
     "data": {
      "text/html": [
       "<style  type=\"text/css\" >\n",
       "    #T_9803679f_14fa_11ed_b62a_302432c220d0row0_col1 {\n",
       "            width:  10em;\n",
       "             height:  80%;\n",
       "            background:  linear-gradient(90deg,pink 100.0%, transparent 100.0%);\n",
       "        }    #T_9803679f_14fa_11ed_b62a_302432c220d0row1_col1 {\n",
       "            width:  10em;\n",
       "             height:  80%;\n",
       "            background:  linear-gradient(90deg,pink 83.6%, transparent 83.6%);\n",
       "        }    #T_9803679f_14fa_11ed_b62a_302432c220d0row2_col1 {\n",
       "            width:  10em;\n",
       "             height:  80%;\n",
       "            background:  linear-gradient(90deg,pink 30.0%, transparent 30.0%);\n",
       "        }    #T_9803679f_14fa_11ed_b62a_302432c220d0row3_col1 {\n",
       "            width:  10em;\n",
       "             height:  80%;\n",
       "            background:  linear-gradient(90deg,pink 16.1%, transparent 16.1%);\n",
       "        }    #T_9803679f_14fa_11ed_b62a_302432c220d0row4_col1 {\n",
       "            width:  10em;\n",
       "             height:  80%;\n",
       "            background:  linear-gradient(90deg,pink 15.0%, transparent 15.0%);\n",
       "        }    #T_9803679f_14fa_11ed_b62a_302432c220d0row5_col1 {\n",
       "            width:  10em;\n",
       "             height:  80%;\n",
       "        }</style><table id=\"T_9803679f_14fa_11ed_b62a_302432c220d0\" ><thead>    <tr>        <th class=\"blank level0\" ></th>        <th class=\"col_heading level0 col0\" >country</th>        <th class=\"col_heading level0 col1\" >Hotel_Name</th>    </tr></thead><tbody>\n",
       "                <tr>\n",
       "                        <th id=\"T_9803679f_14fa_11ed_b62a_302432c220d0level0_row0\" class=\"row_heading level0 row0\" >0</th>\n",
       "                        <td id=\"T_9803679f_14fa_11ed_b62a_302432c220d0row0_col0\" class=\"data row0 col0\" >France</td>\n",
       "                        <td id=\"T_9803679f_14fa_11ed_b62a_302432c220d0row0_col1\" class=\"data row0 col1\" >458</td>\n",
       "            </tr>\n",
       "            <tr>\n",
       "                        <th id=\"T_9803679f_14fa_11ed_b62a_302432c220d0level0_row1\" class=\"row_heading level0 row1\" >1</th>\n",
       "                        <td id=\"T_9803679f_14fa_11ed_b62a_302432c220d0row1_col0\" class=\"data row1 col0\" >United Kingdom</td>\n",
       "                        <td id=\"T_9803679f_14fa_11ed_b62a_302432c220d0row1_col1\" class=\"data row1 col1\" >400</td>\n",
       "            </tr>\n",
       "            <tr>\n",
       "                        <th id=\"T_9803679f_14fa_11ed_b62a_302432c220d0level0_row2\" class=\"row_heading level0 row2\" >2</th>\n",
       "                        <td id=\"T_9803679f_14fa_11ed_b62a_302432c220d0row2_col0\" class=\"data row2 col0\" >Spain</td>\n",
       "                        <td id=\"T_9803679f_14fa_11ed_b62a_302432c220d0row2_col1\" class=\"data row2 col1\" >211</td>\n",
       "            </tr>\n",
       "            <tr>\n",
       "                        <th id=\"T_9803679f_14fa_11ed_b62a_302432c220d0level0_row3\" class=\"row_heading level0 row3\" >3</th>\n",
       "                        <td id=\"T_9803679f_14fa_11ed_b62a_302432c220d0row3_col0\" class=\"data row3 col0\" >Italy</td>\n",
       "                        <td id=\"T_9803679f_14fa_11ed_b62a_302432c220d0row3_col1\" class=\"data row3 col1\" >162</td>\n",
       "            </tr>\n",
       "            <tr>\n",
       "                        <th id=\"T_9803679f_14fa_11ed_b62a_302432c220d0level0_row4\" class=\"row_heading level0 row4\" >4</th>\n",
       "                        <td id=\"T_9803679f_14fa_11ed_b62a_302432c220d0row4_col0\" class=\"data row4 col0\" >Austria</td>\n",
       "                        <td id=\"T_9803679f_14fa_11ed_b62a_302432c220d0row4_col1\" class=\"data row4 col1\" >158</td>\n",
       "            </tr>\n",
       "            <tr>\n",
       "                        <th id=\"T_9803679f_14fa_11ed_b62a_302432c220d0level0_row5\" class=\"row_heading level0 row5\" >5</th>\n",
       "                        <td id=\"T_9803679f_14fa_11ed_b62a_302432c220d0row5_col0\" class=\"data row5 col0\" >Netherlands</td>\n",
       "                        <td id=\"T_9803679f_14fa_11ed_b62a_302432c220d0row5_col1\" class=\"data row5 col1\" >105</td>\n",
       "            </tr>\n",
       "    </tbody></table>"
      ],
      "text/plain": [
       "<pandas.io.formats.style.Styler at 0x250b7958>"
      ]
     },
     "execution_count": 14,
     "metadata": {},
     "output_type": "execute_result"
    }
   ],
   "source": [
    "hotels.groupby('country')[['Hotel_Name']].nunique().sort_values(by = 'Hotel_Name', ascending = False).reset_index().style.bar(color='pink')"
   ]
  },
  {
   "cell_type": "markdown",
   "id": "24f84ba9",
   "metadata": {},
   "source": [
    "United Kingdom has 400 hotels but account for more than 50% of the reviews, French has the most number of hotels yet only account for 60k reviews as was discovered in the Data Wrangling notebook."
   ]
  },
  {
   "cell_type": "code",
   "execution_count": 15,
   "id": "55e3ab61",
   "metadata": {},
   "outputs": [
    {
     "data": {
      "text/html": [
       "<div>\n",
       "<style scoped>\n",
       "    .dataframe tbody tr th:only-of-type {\n",
       "        vertical-align: middle;\n",
       "    }\n",
       "\n",
       "    .dataframe tbody tr th {\n",
       "        vertical-align: top;\n",
       "    }\n",
       "\n",
       "    .dataframe thead th {\n",
       "        text-align: right;\n",
       "    }\n",
       "</style>\n",
       "<table border=\"1\" class=\"dataframe\">\n",
       "  <thead>\n",
       "    <tr style=\"text-align: right;\">\n",
       "      <th></th>\n",
       "      <th>Hotel_Address</th>\n",
       "      <th>Average_Score</th>\n",
       "      <th>Hotel_Name</th>\n",
       "      <th>Reviewer_Nationality</th>\n",
       "      <th>Negative_Review</th>\n",
       "      <th>Total_Number_of_Reviews</th>\n",
       "      <th>Positive_Review</th>\n",
       "      <th>Total_Number_of_Reviews_Reviewer_Has_Given</th>\n",
       "      <th>Reviewer_Score</th>\n",
       "      <th>days_since_review</th>\n",
       "      <th>lat</th>\n",
       "      <th>lng</th>\n",
       "      <th>Month</th>\n",
       "      <th>Year</th>\n",
       "      <th>Day</th>\n",
       "      <th>country</th>\n",
       "      <th>Trip_type</th>\n",
       "      <th>Group_type</th>\n",
       "      <th>Review_score_int</th>\n",
       "      <th>Date</th>\n",
       "    </tr>\n",
       "  </thead>\n",
       "  <tbody>\n",
       "    <tr>\n",
       "      <th>0</th>\n",
       "      <td>s Gravesandestraat 55 Oost 1092 AA Amsterdam ...</td>\n",
       "      <td>7.7</td>\n",
       "      <td>Hotel Arena</td>\n",
       "      <td>Russia</td>\n",
       "      <td>I am so angry that i made this post available...</td>\n",
       "      <td>1403</td>\n",
       "      <td>Only the park outside of the hotel was beauti...</td>\n",
       "      <td>7</td>\n",
       "      <td>2.9</td>\n",
       "      <td>0 days</td>\n",
       "      <td>52.360576</td>\n",
       "      <td>4.915968</td>\n",
       "      <td>8</td>\n",
       "      <td>2017</td>\n",
       "      <td>3</td>\n",
       "      <td>Netherlands</td>\n",
       "      <td>1.0</td>\n",
       "      <td>2</td>\n",
       "      <td>3</td>\n",
       "      <td>2017-08-01</td>\n",
       "    </tr>\n",
       "    <tr>\n",
       "      <th>1</th>\n",
       "      <td>s Gravesandestraat 55 Oost 1092 AA Amsterdam ...</td>\n",
       "      <td>7.7</td>\n",
       "      <td>Hotel Arena</td>\n",
       "      <td>Ireland</td>\n",
       "      <td>No Negative</td>\n",
       "      <td>1403</td>\n",
       "      <td>No real complaints the hotel was great great ...</td>\n",
       "      <td>7</td>\n",
       "      <td>7.5</td>\n",
       "      <td>0 days</td>\n",
       "      <td>52.360576</td>\n",
       "      <td>4.915968</td>\n",
       "      <td>8</td>\n",
       "      <td>2017</td>\n",
       "      <td>3</td>\n",
       "      <td>Netherlands</td>\n",
       "      <td>1.0</td>\n",
       "      <td>2</td>\n",
       "      <td>8</td>\n",
       "      <td>2017-08-01</td>\n",
       "    </tr>\n",
       "    <tr>\n",
       "      <th>2</th>\n",
       "      <td>s Gravesandestraat 55 Oost 1092 AA Amsterdam ...</td>\n",
       "      <td>7.7</td>\n",
       "      <td>Hotel Arena</td>\n",
       "      <td>Australia</td>\n",
       "      <td>Rooms are nice but for elderly a bit difficul...</td>\n",
       "      <td>1403</td>\n",
       "      <td>Location was good and staff were ok It is cut...</td>\n",
       "      <td>9</td>\n",
       "      <td>7.1</td>\n",
       "      <td>3 days</td>\n",
       "      <td>52.360576</td>\n",
       "      <td>4.915968</td>\n",
       "      <td>7</td>\n",
       "      <td>2017</td>\n",
       "      <td>31</td>\n",
       "      <td>Netherlands</td>\n",
       "      <td>1.0</td>\n",
       "      <td>4</td>\n",
       "      <td>7</td>\n",
       "      <td>2017-07-01</td>\n",
       "    </tr>\n",
       "    <tr>\n",
       "      <th>3</th>\n",
       "      <td>s Gravesandestraat 55 Oost 1092 AA Amsterdam ...</td>\n",
       "      <td>7.7</td>\n",
       "      <td>Hotel Arena</td>\n",
       "      <td>United Kingdom</td>\n",
       "      <td>My room was dirty and I was afraid to walk ba...</td>\n",
       "      <td>1403</td>\n",
       "      <td>Great location in nice surroundings the bar a...</td>\n",
       "      <td>1</td>\n",
       "      <td>3.8</td>\n",
       "      <td>3 days</td>\n",
       "      <td>52.360576</td>\n",
       "      <td>4.915968</td>\n",
       "      <td>7</td>\n",
       "      <td>2017</td>\n",
       "      <td>31</td>\n",
       "      <td>Netherlands</td>\n",
       "      <td>1.0</td>\n",
       "      <td>1</td>\n",
       "      <td>4</td>\n",
       "      <td>2017-07-01</td>\n",
       "    </tr>\n",
       "    <tr>\n",
       "      <th>4</th>\n",
       "      <td>s Gravesandestraat 55 Oost 1092 AA Amsterdam ...</td>\n",
       "      <td>7.7</td>\n",
       "      <td>Hotel Arena</td>\n",
       "      <td>New Zealand</td>\n",
       "      <td>You When I booked with your company on line y...</td>\n",
       "      <td>1403</td>\n",
       "      <td>Amazing location and building Romantic setting</td>\n",
       "      <td>3</td>\n",
       "      <td>6.7</td>\n",
       "      <td>10 days</td>\n",
       "      <td>52.360576</td>\n",
       "      <td>4.915968</td>\n",
       "      <td>7</td>\n",
       "      <td>2017</td>\n",
       "      <td>24</td>\n",
       "      <td>Netherlands</td>\n",
       "      <td>1.0</td>\n",
       "      <td>2</td>\n",
       "      <td>7</td>\n",
       "      <td>2017-07-01</td>\n",
       "    </tr>\n",
       "  </tbody>\n",
       "</table>\n",
       "</div>"
      ],
      "text/plain": [
       "                                       Hotel_Address  Average_Score  \\\n",
       "0   s Gravesandestraat 55 Oost 1092 AA Amsterdam ...            7.7   \n",
       "1   s Gravesandestraat 55 Oost 1092 AA Amsterdam ...            7.7   \n",
       "2   s Gravesandestraat 55 Oost 1092 AA Amsterdam ...            7.7   \n",
       "3   s Gravesandestraat 55 Oost 1092 AA Amsterdam ...            7.7   \n",
       "4   s Gravesandestraat 55 Oost 1092 AA Amsterdam ...            7.7   \n",
       "\n",
       "    Hotel_Name Reviewer_Nationality  \\\n",
       "0  Hotel Arena              Russia    \n",
       "1  Hotel Arena             Ireland    \n",
       "2  Hotel Arena           Australia    \n",
       "3  Hotel Arena      United Kingdom    \n",
       "4  Hotel Arena         New Zealand    \n",
       "\n",
       "                                     Negative_Review  Total_Number_of_Reviews  \\\n",
       "0   I am so angry that i made this post available...                     1403   \n",
       "1                                        No Negative                     1403   \n",
       "2   Rooms are nice but for elderly a bit difficul...                     1403   \n",
       "3   My room was dirty and I was afraid to walk ba...                     1403   \n",
       "4   You When I booked with your company on line y...                     1403   \n",
       "\n",
       "                                     Positive_Review  \\\n",
       "0   Only the park outside of the hotel was beauti...   \n",
       "1   No real complaints the hotel was great great ...   \n",
       "2   Location was good and staff were ok It is cut...   \n",
       "3   Great location in nice surroundings the bar a...   \n",
       "4    Amazing location and building Romantic setting    \n",
       "\n",
       "   Total_Number_of_Reviews_Reviewer_Has_Given  Reviewer_Score  \\\n",
       "0                                           7             2.9   \n",
       "1                                           7             7.5   \n",
       "2                                           9             7.1   \n",
       "3                                           1             3.8   \n",
       "4                                           3             6.7   \n",
       "\n",
       "  days_since_review        lat       lng  Month  Year  Day      country  \\\n",
       "0            0 days  52.360576  4.915968      8  2017    3  Netherlands   \n",
       "1            0 days  52.360576  4.915968      8  2017    3  Netherlands   \n",
       "2            3 days  52.360576  4.915968      7  2017   31  Netherlands   \n",
       "3            3 days  52.360576  4.915968      7  2017   31  Netherlands   \n",
       "4           10 days  52.360576  4.915968      7  2017   24  Netherlands   \n",
       "\n",
       "   Trip_type  Group_type  Review_score_int       Date  \n",
       "0        1.0           2                 3 2017-08-01  \n",
       "1        1.0           2                 8 2017-08-01  \n",
       "2        1.0           4                 7 2017-07-01  \n",
       "3        1.0           1                 4 2017-07-01  \n",
       "4        1.0           2                 7 2017-07-01  "
      ]
     },
     "execution_count": 15,
     "metadata": {},
     "output_type": "execute_result"
    }
   ],
   "source": [
    "hotels['Date'] = pd.to_datetime(hotels[['Year', 'Month']].assign(DAY=1))\n",
    "\n",
    "# hotels.drop(columns=['Month', 'Year', 'Day', 'lat', 'lng', 'days_since_review'], inplace = True)\n",
    "hotels.head()"
   ]
  },
  {
   "cell_type": "code",
   "execution_count": 16,
   "id": "4b95c908",
   "metadata": {},
   "outputs": [
    {
     "data": {
      "text/plain": [
       "<AxesSubplot:xlabel='Date'>"
      ]
     },
     "execution_count": 16,
     "metadata": {},
     "output_type": "execute_result"
    },
    {
     "data": {
      "image/png": "[encoded data removed]",
      "text/plain": [
       "<Figure size 864x576 with 1 Axes>"
      ]
     },
     "metadata": {},
     "output_type": "display_data"
    }
   ],
   "source": [
    "hotels[[\"Date\",\"Reviewer_Score\"]].groupby(\"Date\").mean().plot(figsize=(12,8))"
   ]
  },
  {
   "cell_type": "markdown",
   "id": "a42a7466",
   "metadata": {},
   "source": [
    "The difference in scores is not significant, however during summer time, the scores seem to show a downtrend. This can come from the reason that people travel more during the summer time, and hotels might not be able to provide the service that they would if it was not overcrowded. "
   ]
  },
  {
   "cell_type": "code",
   "execution_count": 17,
   "id": "73407c2c",
   "metadata": {},
   "outputs": [
    {
     "name": "stdout",
     "output_type": "stream",
     "text": [
      "Wall time: 403 ms\n"
     ]
    },
    {
     "data": {
      "image/png": "[encoded data removed]",
      "text/plain": [
       "<Figure size 1080x720 with 2 Axes>"
      ]
     },
     "metadata": {},
     "output_type": "display_data"
    }
   ],
   "source": [
    "%%time\n",
    "\n",
    "orig_corr = hotels.corr()\n",
    "plt.figure(figsize=(15,10))\n",
    "_ = sns.heatmap(orig_corr.corr(), cmap = 'Reds', vmin = 0.0, vmax = 1, linewidth=0.3, cbar_kws={\"shrink\": .8})\n",
    "\n"
   ]
  },
  {
   "cell_type": "code",
   "execution_count": 18,
   "id": "d4314a1c",
   "metadata": {},
   "outputs": [
    {
     "name": "stdout",
     "output_type": "stream",
     "text": [
      "C:\\Users\\hanna\\AppData\\Local\\Programs\\Python\\Python38-32\\python.exe\n"
     ]
    }
   ],
   "source": [
    "import sys\n",
    "print(sys.executable)"
   ]
  },
  {
   "cell_type": "code",
   "execution_count": 19,
   "id": "8cab7b70",
   "metadata": {},
   "outputs": [],
   "source": [
    "# pip install WordCloud"
   ]
  },
  {
   "cell_type": "code",
   "execution_count": 20,
   "id": "116915b5",
   "metadata": {},
   "outputs": [],
   "source": [
    "# pip install nltk"
   ]
  },
  {
   "cell_type": "code",
   "execution_count": null,
   "id": "2325db22",
   "metadata": {},
   "outputs": [
    {
     "name": "stdout",
     "output_type": "stream",
     "text": [
      "showing info https://raw.githubusercontent.com/nltk/nltk_data/gh-pages/index.xml\n"
     ]
    }
   ],
   "source": [
    "import nltk\n",
    "nltk.download()\n",
    "from nltk.corpus import stopwords"
   ]
  },
  {
   "cell_type": "code",
   "execution_count": null,
   "id": "c57ef2b2",
   "metadata": {},
   "outputs": [],
   "source": [
    "stopwords = nltk.corpus.stopwords.words('english')"
   ]
  },
  {
   "cell_type": "code",
   "execution_count": null,
   "id": "2f60e676",
   "metadata": {},
   "outputs": [],
   "source": [
    "from wordcloud import WordCloud"
   ]
  },
  {
   "cell_type": "code",
   "execution_count": null,
   "id": "b9183ac7",
   "metadata": {},
   "outputs": [],
   "source": [
    "%%time\n",
    "neg_reviews = \"\"\n",
    "for i in range(hotels.shape[0]):\n",
    "    neg_reviews = \" \".join([neg_reviews,hotels[\"Negative_Review\"].values[i]])\n",
    "    \n",
    "from wordcloud import WordCloud\n",
    "wordcloud = WordCloud(background_color='black', width=800, height=400, max_font_size=200).generate(neg_reviews)\n",
    "wordcloud.recolor(random_state=312)\n",
    "plt.imshow(wordcloud, interpolation=\"bilinear\")\n",
    "plt.title(\"Wordcloud for Negative Reviews \")\n",
    "plt.axis(\"off\")\n",
    "plt.show()\n",
    "plt.figure( figsize=(20,10))\n",
    "plt.tight_layout(pad=0)"
   ]
  },
  {
   "cell_type": "code",
   "execution_count": null,
   "id": "fb5bf3b6",
   "metadata": {},
   "outputs": [],
   "source": [
    "%%time\n",
    "pos_reviews = \"\"\n",
    "for i in range(hotels.shape[0]):\n",
    "    pos_reviews = \" \".join([pos_reviews,hotels[\"Positive_Review\"].values[i]])\n",
    "        \n",
    "wordcloud = WordCloud(background_color='black', width=800, height=400, max_font_size=200).generate(pos_reviews)\n",
    "wordcloud.recolor(random_state=312)\n",
    "plt.imshow(wordcloud)\n",
    "plt.title(\"Wordcloud for Positive Reviews \")\n",
    "plt.axis(\"off\")\n",
    "plt.show()\n",
    "plt.figure(figsize=(20,10))\n",
    "plt.tight_layout(pad=0)"
   ]
  },
  {
   "cell_type": "code",
   "execution_count": null,
   "id": "0dd60c92",
   "metadata": {},
   "outputs": [],
   "source": []
  }
 ],
 "metadata": {
  "kernelspec": {
   "display_name": "Python 3.8.1 32-bit",
   "language": "python",
   "name": "python38132bitacf6368f10534de997906bd48ebbab81"
  },
  "language_info": {
   "codemirror_mode": {
    "name": "ipython",
    "version": 3
   },
   "file_extension": ".py",
   "mimetype": "text/x-python",
   "name": "python",
   "nbconvert_exporter": "python",
   "pygments_lexer": "ipython3",
   "version": "3.8.1"
  }
 },
 "nbformat": 4,
 "nbformat_minor": 5
}
