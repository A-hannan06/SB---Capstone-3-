{
 "cells": [
  {
   "cell_type": "markdown",
   "id": "d16d7b22",
   "metadata": {},
   "source": [
    "## Pre-Processing & Training"
   ]
  },
  {
   "cell_type": "code",
   "execution_count": 2,
   "id": "7d5c3e9f",
   "metadata": {},
   "outputs": [
    {
     "data": {
      "text/html": [
       "<div>\n",
       "<style scoped>\n",
       "    .dataframe tbody tr th:only-of-type {\n",
       "        vertical-align: middle;\n",
       "    }\n",
       "\n",
       "    .dataframe tbody tr th {\n",
       "        vertical-align: top;\n",
       "    }\n",
       "\n",
       "    .dataframe thead th {\n",
       "        text-align: right;\n",
       "    }\n",
       "</style>\n",
       "<table border=\"1\" class=\"dataframe\">\n",
       "  <thead>\n",
       "    <tr style=\"text-align: right;\">\n",
       "      <th></th>\n",
       "      <th>Hotel_Address</th>\n",
       "      <th>Average_Score</th>\n",
       "      <th>Hotel_Name</th>\n",
       "      <th>Reviewer_Nationality</th>\n",
       "      <th>Negative_Review</th>\n",
       "      <th>Total_Number_of_Reviews</th>\n",
       "      <th>Positive_Review</th>\n",
       "      <th>Total_Number_of_Reviews_Reviewer_Has_Given</th>\n",
       "      <th>Reviewer_Score</th>\n",
       "      <th>days_since_review</th>\n",
       "      <th>lat</th>\n",
       "      <th>lng</th>\n",
       "      <th>Month</th>\n",
       "      <th>Year</th>\n",
       "      <th>Day</th>\n",
       "      <th>country</th>\n",
       "      <th>Trip_type</th>\n",
       "      <th>Group_type</th>\n",
       "    </tr>\n",
       "  </thead>\n",
       "  <tbody>\n",
       "    <tr>\n",
       "      <th>0</th>\n",
       "      <td>s Gravesandestraat 55 Oost 1092 AA Amsterdam ...</td>\n",
       "      <td>7.7</td>\n",
       "      <td>Hotel Arena</td>\n",
       "      <td>Russia</td>\n",
       "      <td>I am so angry that i made this post available...</td>\n",
       "      <td>1403</td>\n",
       "      <td>Only the park outside of the hotel was beauti...</td>\n",
       "      <td>7</td>\n",
       "      <td>2.9</td>\n",
       "      <td>0 days</td>\n",
       "      <td>52.360576</td>\n",
       "      <td>4.915968</td>\n",
       "      <td>8</td>\n",
       "      <td>2017</td>\n",
       "      <td>3</td>\n",
       "      <td>Netherlands</td>\n",
       "      <td>1.0</td>\n",
       "      <td>2</td>\n",
       "    </tr>\n",
       "    <tr>\n",
       "      <th>1</th>\n",
       "      <td>s Gravesandestraat 55 Oost 1092 AA Amsterdam ...</td>\n",
       "      <td>7.7</td>\n",
       "      <td>Hotel Arena</td>\n",
       "      <td>Ireland</td>\n",
       "      <td>No Negative</td>\n",
       "      <td>1403</td>\n",
       "      <td>No real complaints the hotel was great great ...</td>\n",
       "      <td>7</td>\n",
       "      <td>7.5</td>\n",
       "      <td>0 days</td>\n",
       "      <td>52.360576</td>\n",
       "      <td>4.915968</td>\n",
       "      <td>8</td>\n",
       "      <td>2017</td>\n",
       "      <td>3</td>\n",
       "      <td>Netherlands</td>\n",
       "      <td>1.0</td>\n",
       "      <td>2</td>\n",
       "    </tr>\n",
       "  </tbody>\n",
       "</table>\n",
       "</div>"
      ],
      "text/plain": [
       "                                       Hotel_Address  Average_Score  \\\n",
       "0   s Gravesandestraat 55 Oost 1092 AA Amsterdam ...            7.7   \n",
       "1   s Gravesandestraat 55 Oost 1092 AA Amsterdam ...            7.7   \n",
       "\n",
       "    Hotel_Name Reviewer_Nationality  \\\n",
       "0  Hotel Arena              Russia    \n",
       "1  Hotel Arena             Ireland    \n",
       "\n",
       "                                     Negative_Review  Total_Number_of_Reviews  \\\n",
       "0   I am so angry that i made this post available...                     1403   \n",
       "1                                        No Negative                     1403   \n",
       "\n",
       "                                     Positive_Review  \\\n",
       "0   Only the park outside of the hotel was beauti...   \n",
       "1   No real complaints the hotel was great great ...   \n",
       "\n",
       "   Total_Number_of_Reviews_Reviewer_Has_Given  Reviewer_Score  \\\n",
       "0                                           7             2.9   \n",
       "1                                           7             7.5   \n",
       "\n",
       "  days_since_review        lat       lng  Month  Year  Day      country  \\\n",
       "0            0 days  52.360576  4.915968      8  2017    3  Netherlands   \n",
       "1            0 days  52.360576  4.915968      8  2017    3  Netherlands   \n",
       "\n",
       "   Trip_type  Group_type  \n",
       "0        1.0           2  \n",
       "1        1.0           2  "
      ]
     },
     "execution_count": 2,
     "metadata": {},
     "output_type": "execute_result"
    }
   ],
   "source": [
    "import pandas as pd\n",
    "\n",
    "path = \"C:\\\\Users\\\\hanna\\\\OneDrive\\\\Desktop\\\\All Folders\\\\Data Science\\\\SpringBoard\\\\Capstone 3\\\\hotels_post_datawrangling.csv\"\n",
    "\n",
    "hotels = pd.read_csv(path)\n",
    "\n",
    "hotels.head(2)"
   ]
  },
  {
   "cell_type": "markdown",
   "id": "4c8421a1",
   "metadata": {},
   "source": [
    "For this notebook, we will use Reviewer_Score as a threshold to outline a review as positive or negative, hence rounding the Reviewer Score will be benenfitial towards the end. "
   ]
  },
  {
   "cell_type": "code",
   "execution_count": 3,
   "id": "daa7f621",
   "metadata": {},
   "outputs": [
    {
     "name": "stderr",
     "output_type": "stream",
     "text": [
      "C:\\Users\\hanna\\AppData\\Local\\Temp/ipykernel_12016/2885099020.py:2: SettingWithCopyWarning: \n",
      "A value is trying to be set on a copy of a slice from a DataFrame.\n",
      "Try using .loc[row_indexer,col_indexer] = value instead\n",
      "\n",
      "See the caveats in the documentation: https://pandas.pydata.org/pandas-docs/stable/user_guide/indexing.html#returning-a-view-versus-a-copy\n",
      "  reviews['Reviewer_Score'] = hotels['Reviewer_Score'].round(0).astype(int)\n"
     ]
    }
   ],
   "source": [
    "reviews = hotels[['Positive_Review', 'Negative_Review', 'Reviewer_Score']]\n",
    "reviews['Reviewer_Score'] = hotels['Reviewer_Score'].round(0).astype(int)\n"
   ]
  },
  {
   "cell_type": "code",
   "execution_count": 4,
   "id": "e13fc3b9",
   "metadata": {},
   "outputs": [
    {
     "data": {
      "text/html": [
       "<div>\n",
       "<style scoped>\n",
       "    .dataframe tbody tr th:only-of-type {\n",
       "        vertical-align: middle;\n",
       "    }\n",
       "\n",
       "    .dataframe tbody tr th {\n",
       "        vertical-align: top;\n",
       "    }\n",
       "\n",
       "    .dataframe thead th {\n",
       "        text-align: right;\n",
       "    }\n",
       "</style>\n",
       "<table border=\"1\" class=\"dataframe\">\n",
       "  <thead>\n",
       "    <tr style=\"text-align: right;\">\n",
       "      <th></th>\n",
       "      <th>Positive_Review</th>\n",
       "      <th>Negative_Review</th>\n",
       "      <th>Reviewer_Score</th>\n",
       "    </tr>\n",
       "  </thead>\n",
       "  <tbody>\n",
       "    <tr>\n",
       "      <th>0</th>\n",
       "      <td>Only the park outside of the hotel was beauti...</td>\n",
       "      <td>I am so angry that i made this post available...</td>\n",
       "      <td>3</td>\n",
       "    </tr>\n",
       "    <tr>\n",
       "      <th>1</th>\n",
       "      <td>No real complaints the hotel was great great ...</td>\n",
       "      <td>No Negative</td>\n",
       "      <td>8</td>\n",
       "    </tr>\n",
       "  </tbody>\n",
       "</table>\n",
       "</div>"
      ],
      "text/plain": [
       "                                     Positive_Review  \\\n",
       "0   Only the park outside of the hotel was beauti...   \n",
       "1   No real complaints the hotel was great great ...   \n",
       "\n",
       "                                     Negative_Review  Reviewer_Score  \n",
       "0   I am so angry that i made this post available...               3  \n",
       "1                                        No Negative               8  "
      ]
     },
     "execution_count": 4,
     "metadata": {},
     "output_type": "execute_result"
    }
   ],
   "source": [
    "reviews.head(2)"
   ]
  },
  {
   "cell_type": "markdown",
   "id": "eb2a3f22",
   "metadata": {},
   "source": [
    "First step: Lower the text. "
   ]
  },
  {
   "cell_type": "code",
   "execution_count": 5,
   "id": "985d48d8",
   "metadata": {},
   "outputs": [
    {
     "name": "stderr",
     "output_type": "stream",
     "text": [
      "<timed exec>:1: SettingWithCopyWarning: \n",
      "A value is trying to be set on a copy of a slice from a DataFrame.\n",
      "Try using .loc[row_indexer,col_indexer] = value instead\n",
      "\n",
      "See the caveats in the documentation: https://pandas.pydata.org/pandas-docs/stable/user_guide/indexing.html#returning-a-view-versus-a-copy\n",
      "<timed exec>:2: SettingWithCopyWarning: \n",
      "A value is trying to be set on a copy of a slice from a DataFrame.\n",
      "Try using .loc[row_indexer,col_indexer] = value instead\n",
      "\n",
      "See the caveats in the documentation: https://pandas.pydata.org/pandas-docs/stable/user_guide/indexing.html#returning-a-view-versus-a-copy\n"
     ]
    },
    {
     "name": "stdout",
     "output_type": "stream",
     "text": [
      "Wall time: 540 ms\n"
     ]
    },
    {
     "name": "stderr",
     "output_type": "stream",
     "text": [
      "C:\\Users\\hanna\\anaconda3\\lib\\site-packages\\pandas\\core\\frame.py:4906: SettingWithCopyWarning: \n",
      "A value is trying to be set on a copy of a slice from a DataFrame\n",
      "\n",
      "See the caveats in the documentation: https://pandas.pydata.org/pandas-docs/stable/user_guide/indexing.html#returning-a-view-versus-a-copy\n",
      "  return super().drop(\n"
     ]
    }
   ],
   "source": [
    "%%time\n",
    "\n",
    "reviews['Pos_lower'] = reviews['Positive_Review'].str.lower()\n",
    "reviews['Neg_lower'] = reviews['Negative_Review'].str.lower()\n",
    "\n",
    "# drop the new columns created \n",
    "reviews.drop(['Positive_Review'], axis = 1, inplace = True)\n",
    "reviews.drop(['Negative_Review'], axis = 1, inplace = True)"
   ]
  },
  {
   "cell_type": "code",
   "execution_count": 6,
   "id": "139e4286",
   "metadata": {},
   "outputs": [
    {
     "data": {
      "text/html": [
       "<div>\n",
       "<style scoped>\n",
       "    .dataframe tbody tr th:only-of-type {\n",
       "        vertical-align: middle;\n",
       "    }\n",
       "\n",
       "    .dataframe tbody tr th {\n",
       "        vertical-align: top;\n",
       "    }\n",
       "\n",
       "    .dataframe thead th {\n",
       "        text-align: right;\n",
       "    }\n",
       "</style>\n",
       "<table border=\"1\" class=\"dataframe\">\n",
       "  <thead>\n",
       "    <tr style=\"text-align: right;\">\n",
       "      <th></th>\n",
       "      <th>Reviewer_Score</th>\n",
       "      <th>Pos_lower</th>\n",
       "      <th>Neg_lower</th>\n",
       "    </tr>\n",
       "  </thead>\n",
       "  <tbody>\n",
       "    <tr>\n",
       "      <th>0</th>\n",
       "      <td>3</td>\n",
       "      <td>only the park outside of the hotel was beauti...</td>\n",
       "      <td>i am so angry that i made this post available...</td>\n",
       "    </tr>\n",
       "    <tr>\n",
       "      <th>1</th>\n",
       "      <td>8</td>\n",
       "      <td>no real complaints the hotel was great great ...</td>\n",
       "      <td>no negative</td>\n",
       "    </tr>\n",
       "  </tbody>\n",
       "</table>\n",
       "</div>"
      ],
      "text/plain": [
       "   Reviewer_Score                                          Pos_lower  \\\n",
       "0               3   only the park outside of the hotel was beauti...   \n",
       "1               8   no real complaints the hotel was great great ...   \n",
       "\n",
       "                                           Neg_lower  \n",
       "0   i am so angry that i made this post available...  \n",
       "1                                        no negative  "
      ]
     },
     "execution_count": 6,
     "metadata": {},
     "output_type": "execute_result"
    }
   ],
   "source": [
    "reviews.head(2)"
   ]
  },
  {
   "cell_type": "markdown",
   "id": "7a8d2f7b",
   "metadata": {},
   "source": [
    "Second step: Remove Punctuation. "
   ]
  },
  {
   "cell_type": "code",
   "execution_count": 8,
   "id": "cd2830fb",
   "metadata": {},
   "outputs": [],
   "source": [
    "import string"
   ]
  },
  {
   "cell_type": "code",
   "execution_count": 9,
   "id": "4bcdde69",
   "metadata": {},
   "outputs": [
    {
     "name": "stderr",
     "output_type": "stream",
     "text": [
      "<timed exec>:6: SettingWithCopyWarning: \n",
      "A value is trying to be set on a copy of a slice from a DataFrame.\n",
      "Try using .loc[row_indexer,col_indexer] = value instead\n",
      "\n",
      "See the caveats in the documentation: https://pandas.pydata.org/pandas-docs/stable/user_guide/indexing.html#returning-a-view-versus-a-copy\n"
     ]
    },
    {
     "name": "stdout",
     "output_type": "stream",
     "text": [
      "Wall time: 3.29 s\n"
     ]
    },
    {
     "name": "stderr",
     "output_type": "stream",
     "text": [
      "<timed exec>:7: SettingWithCopyWarning: \n",
      "A value is trying to be set on a copy of a slice from a DataFrame.\n",
      "Try using .loc[row_indexer,col_indexer] = value instead\n",
      "\n",
      "See the caveats in the documentation: https://pandas.pydata.org/pandas-docs/stable/user_guide/indexing.html#returning-a-view-versus-a-copy\n",
      "C:\\Users\\hanna\\anaconda3\\lib\\site-packages\\pandas\\core\\frame.py:4906: SettingWithCopyWarning: \n",
      "A value is trying to be set on a copy of a slice from a DataFrame\n",
      "\n",
      "See the caveats in the documentation: https://pandas.pydata.org/pandas-docs/stable/user_guide/indexing.html#returning-a-view-versus-a-copy\n",
      "  return super().drop(\n"
     ]
    },
    {
     "data": {
      "text/html": [
       "<div>\n",
       "<style scoped>\n",
       "    .dataframe tbody tr th:only-of-type {\n",
       "        vertical-align: middle;\n",
       "    }\n",
       "\n",
       "    .dataframe tbody tr th {\n",
       "        vertical-align: top;\n",
       "    }\n",
       "\n",
       "    .dataframe thead th {\n",
       "        text-align: right;\n",
       "    }\n",
       "</style>\n",
       "<table border=\"1\" class=\"dataframe\">\n",
       "  <thead>\n",
       "    <tr style=\"text-align: right;\">\n",
       "      <th></th>\n",
       "      <th>Reviewer_Score</th>\n",
       "      <th>Pos_wo_punct</th>\n",
       "      <th>Neg_wo_punct</th>\n",
       "    </tr>\n",
       "  </thead>\n",
       "  <tbody>\n",
       "    <tr>\n",
       "      <th>0</th>\n",
       "      <td>3</td>\n",
       "      <td>only the park outside of the hotel was beauti...</td>\n",
       "      <td>i am so angry that i made this post available...</td>\n",
       "    </tr>\n",
       "    <tr>\n",
       "      <th>1</th>\n",
       "      <td>8</td>\n",
       "      <td>no real complaints the hotel was great great ...</td>\n",
       "      <td>no negative</td>\n",
       "    </tr>\n",
       "    <tr>\n",
       "      <th>2</th>\n",
       "      <td>7</td>\n",
       "      <td>location was good and staff were ok it is cut...</td>\n",
       "      <td>rooms are nice but for elderly a bit difficul...</td>\n",
       "    </tr>\n",
       "    <tr>\n",
       "      <th>3</th>\n",
       "      <td>4</td>\n",
       "      <td>great location in nice surroundings the bar a...</td>\n",
       "      <td>my room was dirty and i was afraid to walk ba...</td>\n",
       "    </tr>\n",
       "    <tr>\n",
       "      <th>4</th>\n",
       "      <td>7</td>\n",
       "      <td>amazing location and building romantic setting</td>\n",
       "      <td>you when i booked with your company on line y...</td>\n",
       "    </tr>\n",
       "  </tbody>\n",
       "</table>\n",
       "</div>"
      ],
      "text/plain": [
       "   Reviewer_Score                                       Pos_wo_punct  \\\n",
       "0               3   only the park outside of the hotel was beauti...   \n",
       "1               8   no real complaints the hotel was great great ...   \n",
       "2               7   location was good and staff were ok it is cut...   \n",
       "3               4   great location in nice surroundings the bar a...   \n",
       "4               7    amazing location and building romantic setting    \n",
       "\n",
       "                                        Neg_wo_punct  \n",
       "0   i am so angry that i made this post available...  \n",
       "1                                        no negative  \n",
       "2   rooms are nice but for elderly a bit difficul...  \n",
       "3   my room was dirty and i was afraid to walk ba...  \n",
       "4   you when i booked with your company on line y...  "
      ]
     },
     "execution_count": 9,
     "metadata": {},
     "output_type": "execute_result"
    }
   ],
   "source": [
    "%%time\n",
    "\n",
    "PUNCT_TO_REMOVE = string.punctuation\n",
    "def remove_punctuation(text):\n",
    "    \"\"\"custom function to remove the punctuation\"\"\"\n",
    "    return text.translate(str.maketrans('', '', PUNCT_TO_REMOVE))\n",
    "\n",
    "reviews[\"Pos_wo_punct\"] = reviews[\"Pos_lower\"].apply(lambda text: remove_punctuation(text))\n",
    "reviews[\"Neg_wo_punct\"] = reviews[\"Neg_lower\"].apply(lambda text: remove_punctuation(text))\n",
    "\n",
    "reviews.drop(['Pos_lower'], axis = 1, inplace = True)\n",
    "reviews.drop(['Neg_lower'], axis = 1, inplace = True)\n",
    "\n",
    "reviews.head()"
   ]
  },
  {
   "cell_type": "code",
   "execution_count": 10,
   "id": "c65b6fd5",
   "metadata": {},
   "outputs": [
    {
     "name": "stderr",
     "output_type": "stream",
     "text": [
      "[nltk_data] Downloading package stopwords to\n",
      "[nltk_data]     C:\\Users\\hanna\\AppData\\Roaming\\nltk_data...\n",
      "[nltk_data]   Package stopwords is already up-to-date!\n"
     ]
    },
    {
     "data": {
      "text/plain": [
       "True"
      ]
     },
     "execution_count": 10,
     "metadata": {},
     "output_type": "execute_result"
    }
   ],
   "source": [
    "import nltk\n",
    "nltk.download('stopwords')"
   ]
  },
  {
   "cell_type": "code",
   "execution_count": 11,
   "id": "e326c64f",
   "metadata": {},
   "outputs": [
    {
     "data": {
      "text/plain": [
       "\"i, me, my, myself, we, our, ours, ourselves, you, you're, you've, you'll, you'd, your, yours, yourself, yourselves, he, him, his, himself, she, she's, her, hers, herself, it, it's, its, itself, they, them, their, theirs, themselves, what, which, who, whom, this, that, that'll, these, those, am, is, are, was, were, be, been, being, have, has, had, having, do, does, did, doing, a, an, the, and, but, if, or, because, as, until, while, of, at, by, for, with, about, against, between, into, through, during, before, after, above, below, to, from, up, down, in, out, on, off, over, under, again, further, then, once, here, there, when, where, why, how, all, any, both, each, few, more, most, other, some, such, no, nor, not, only, own, same, so, than, too, very, s, t, can, will, just, don, don't, should, should've, now, d, ll, m, o, re, ve, y, ain, aren, aren't, couldn, couldn't, didn, didn't, doesn, doesn't, hadn, hadn't, hasn, hasn't, haven, haven't, isn, isn't, ma, mightn, mightn't, mustn, mustn't, needn, needn't, shan, shan't, shouldn, shouldn't, wasn, wasn't, weren, weren't, won, won't, wouldn, wouldn't\""
      ]
     },
     "execution_count": 11,
     "metadata": {},
     "output_type": "execute_result"
    }
   ],
   "source": [
    "from nltk.corpus import stopwords\n",
    "\", \".join(stopwords.words('english'))"
   ]
  },
  {
   "cell_type": "markdown",
   "id": "26138a31",
   "metadata": {},
   "source": [
    "Third step: Remove Stopwords. "
   ]
  },
  {
   "cell_type": "code",
   "execution_count": 12,
   "id": "a7902ca0",
   "metadata": {},
   "outputs": [
    {
     "name": "stderr",
     "output_type": "stream",
     "text": [
      "<timed exec>:8: SettingWithCopyWarning: \n",
      "A value is trying to be set on a copy of a slice from a DataFrame.\n",
      "Try using .loc[row_indexer,col_indexer] = value instead\n",
      "\n",
      "See the caveats in the documentation: https://pandas.pydata.org/pandas-docs/stable/user_guide/indexing.html#returning-a-view-versus-a-copy\n"
     ]
    },
    {
     "name": "stdout",
     "output_type": "stream",
     "text": [
      "Wall time: 3.92 s\n"
     ]
    },
    {
     "name": "stderr",
     "output_type": "stream",
     "text": [
      "<timed exec>:9: SettingWithCopyWarning: \n",
      "A value is trying to be set on a copy of a slice from a DataFrame.\n",
      "Try using .loc[row_indexer,col_indexer] = value instead\n",
      "\n",
      "See the caveats in the documentation: https://pandas.pydata.org/pandas-docs/stable/user_guide/indexing.html#returning-a-view-versus-a-copy\n",
      "C:\\Users\\hanna\\anaconda3\\lib\\site-packages\\pandas\\core\\frame.py:4906: SettingWithCopyWarning: \n",
      "A value is trying to be set on a copy of a slice from a DataFrame\n",
      "\n",
      "See the caveats in the documentation: https://pandas.pydata.org/pandas-docs/stable/user_guide/indexing.html#returning-a-view-versus-a-copy\n",
      "  return super().drop(\n"
     ]
    },
    {
     "data": {
      "text/html": [
       "<div>\n",
       "<style scoped>\n",
       "    .dataframe tbody tr th:only-of-type {\n",
       "        vertical-align: middle;\n",
       "    }\n",
       "\n",
       "    .dataframe tbody tr th {\n",
       "        vertical-align: top;\n",
       "    }\n",
       "\n",
       "    .dataframe thead th {\n",
       "        text-align: right;\n",
       "    }\n",
       "</style>\n",
       "<table border=\"1\" class=\"dataframe\">\n",
       "  <thead>\n",
       "    <tr style=\"text-align: right;\">\n",
       "      <th></th>\n",
       "      <th>Reviewer_Score</th>\n",
       "      <th>Pos_wo_stop</th>\n",
       "      <th>Neg_wo_stop</th>\n",
       "    </tr>\n",
       "  </thead>\n",
       "  <tbody>\n",
       "    <tr>\n",
       "      <th>0</th>\n",
       "      <td>3</td>\n",
       "      <td>park outside hotel beautiful</td>\n",
       "      <td>angry made post available via possible sites u...</td>\n",
       "    </tr>\n",
       "    <tr>\n",
       "      <th>1</th>\n",
       "      <td>8</td>\n",
       "      <td>no real complaints hotel great great location ...</td>\n",
       "      <td>no negative</td>\n",
       "    </tr>\n",
       "    <tr>\n",
       "      <th>2</th>\n",
       "      <td>7</td>\n",
       "      <td>location good staff ok cute hotel breakfast ra...</td>\n",
       "      <td>rooms nice elderly bit difficult rooms two sto...</td>\n",
       "    </tr>\n",
       "    <tr>\n",
       "      <th>3</th>\n",
       "      <td>4</td>\n",
       "      <td>great location nice surroundings bar restauran...</td>\n",
       "      <td>room dirty afraid walk barefoot floor looked c...</td>\n",
       "    </tr>\n",
       "    <tr>\n",
       "      <th>4</th>\n",
       "      <td>7</td>\n",
       "      <td>amazing location building romantic setting</td>\n",
       "      <td>booked company line showed pictures room thoug...</td>\n",
       "    </tr>\n",
       "  </tbody>\n",
       "</table>\n",
       "</div>"
      ],
      "text/plain": [
       "   Reviewer_Score                                        Pos_wo_stop  \\\n",
       "0               3                       park outside hotel beautiful   \n",
       "1               8  no real complaints hotel great great location ...   \n",
       "2               7  location good staff ok cute hotel breakfast ra...   \n",
       "3               4  great location nice surroundings bar restauran...   \n",
       "4               7         amazing location building romantic setting   \n",
       "\n",
       "                                         Neg_wo_stop  \n",
       "0  angry made post available via possible sites u...  \n",
       "1                                        no negative  \n",
       "2  rooms nice elderly bit difficult rooms two sto...  \n",
       "3  room dirty afraid walk barefoot floor looked c...  \n",
       "4  booked company line showed pictures room thoug...  "
      ]
     },
     "execution_count": 12,
     "metadata": {},
     "output_type": "execute_result"
    }
   ],
   "source": [
    "%%time\n",
    "\n",
    "STOPWORDS = set(stopwords.words('english'))\n",
    "STOPWORDS.remove('no')\n",
    "\n",
    "def remove_stopwords(text):\n",
    "    \"\"\"custom function to remove the stopwords\"\"\"\n",
    "    return \" \".join([word for word in str(text).split() if word not in STOPWORDS])\n",
    "\n",
    "reviews[\"Pos_wo_stop\"] = reviews[\"Pos_wo_punct\"].apply(lambda text: remove_stopwords(text))\n",
    "reviews[\"Neg_wo_stop\"] = reviews[\"Neg_wo_punct\"].apply(lambda text: remove_stopwords(text))\n",
    "\n",
    "reviews.drop(['Pos_wo_punct'], axis = 1, inplace = True)\n",
    "reviews.drop(['Neg_wo_punct'], axis = 1, inplace = True)\n",
    "\n",
    "reviews.head()"
   ]
  },
  {
   "cell_type": "markdown",
   "id": "de794fd7",
   "metadata": {},
   "source": [
    "Fourth step: Lemmatize the text. "
   ]
  },
  {
   "cell_type": "code",
   "execution_count": 13,
   "id": "a77b34e1",
   "metadata": {},
   "outputs": [
    {
     "name": "stderr",
     "output_type": "stream",
     "text": [
      "<timed exec>:13: SettingWithCopyWarning: \n",
      "A value is trying to be set on a copy of a slice from a DataFrame.\n",
      "Try using .loc[row_indexer,col_indexer] = value instead\n",
      "\n",
      "See the caveats in the documentation: https://pandas.pydata.org/pandas-docs/stable/user_guide/indexing.html#returning-a-view-versus-a-copy\n"
     ]
    },
    {
     "name": "stdout",
     "output_type": "stream",
     "text": [
      "Wall time: 22min 46s\n"
     ]
    },
    {
     "name": "stderr",
     "output_type": "stream",
     "text": [
      "<timed exec>:14: SettingWithCopyWarning: \n",
      "A value is trying to be set on a copy of a slice from a DataFrame.\n",
      "Try using .loc[row_indexer,col_indexer] = value instead\n",
      "\n",
      "See the caveats in the documentation: https://pandas.pydata.org/pandas-docs/stable/user_guide/indexing.html#returning-a-view-versus-a-copy\n"
     ]
    }
   ],
   "source": [
    "%%time\n",
    "#nltk.download('wordnet')\n",
    "# nltk.download('averaged_perceptron_tagger')\n",
    "\n",
    "from nltk.corpus import wordnet\n",
    "from nltk.stem import WordNetLemmatizer\n",
    "\n",
    "lemmatizer = WordNetLemmatizer()\n",
    "wordnet_map = {\"N\":wordnet.NOUN, \"V\":wordnet.VERB, \"J\":wordnet.ADJ, \"R\":wordnet.ADV}\n",
    "def lemmatize_words(text):\n",
    "    pos_tagged_text = nltk.pos_tag(text.split())\n",
    "    return \" \".join([lemmatizer.lemmatize(word, wordnet_map.get(pos[0], wordnet.NOUN)) for word, pos in pos_tagged_text])\n",
    "\n",
    "reviews[\"Pos_lemmatized\"] = reviews[\"Pos_wo_stop\"].apply(lambda text: lemmatize_words(text))\n",
    "reviews[\"Neg_lemmatized\"] = reviews[\"Neg_wo_stop\"].apply(lambda text: lemmatize_words(text))\n",
    "\n"
   ]
  },
  {
   "cell_type": "code",
   "execution_count": 14,
   "id": "1856b9f4",
   "metadata": {},
   "outputs": [
    {
     "name": "stderr",
     "output_type": "stream",
     "text": [
      "C:\\Users\\hanna\\anaconda3\\lib\\site-packages\\pandas\\core\\frame.py:4906: SettingWithCopyWarning: \n",
      "A value is trying to be set on a copy of a slice from a DataFrame\n",
      "\n",
      "See the caveats in the documentation: https://pandas.pydata.org/pandas-docs/stable/user_guide/indexing.html#returning-a-view-versus-a-copy\n",
      "  return super().drop(\n"
     ]
    }
   ],
   "source": [
    "reviews.drop(['Pos_wo_stop'], axis = 1, inplace = True)\n",
    "reviews.drop(['Neg_wo_stop'], axis = 1, inplace = True)"
   ]
  },
  {
   "cell_type": "code",
   "execution_count": 15,
   "id": "9f0ec92e",
   "metadata": {},
   "outputs": [
    {
     "data": {
      "text/html": [
       "<div>\n",
       "<style scoped>\n",
       "    .dataframe tbody tr th:only-of-type {\n",
       "        vertical-align: middle;\n",
       "    }\n",
       "\n",
       "    .dataframe tbody tr th {\n",
       "        vertical-align: top;\n",
       "    }\n",
       "\n",
       "    .dataframe thead th {\n",
       "        text-align: right;\n",
       "    }\n",
       "</style>\n",
       "<table border=\"1\" class=\"dataframe\">\n",
       "  <thead>\n",
       "    <tr style=\"text-align: right;\">\n",
       "      <th></th>\n",
       "      <th>Reviewer_Score</th>\n",
       "      <th>Pos_lemmatized</th>\n",
       "      <th>Neg_lemmatized</th>\n",
       "    </tr>\n",
       "  </thead>\n",
       "  <tbody>\n",
       "    <tr>\n",
       "      <th>0</th>\n",
       "      <td>3</td>\n",
       "      <td>park outside hotel beautiful</td>\n",
       "      <td>angry make post available via possible site us...</td>\n",
       "    </tr>\n",
       "    <tr>\n",
       "      <th>1</th>\n",
       "      <td>8</td>\n",
       "      <td>no real complaint hotel great great location s...</td>\n",
       "      <td>no negative</td>\n",
       "    </tr>\n",
       "    <tr>\n",
       "      <th>2</th>\n",
       "      <td>7</td>\n",
       "      <td>location good staff ok cute hotel breakfast ra...</td>\n",
       "      <td>room nice elderly bit difficult room two story...</td>\n",
       "    </tr>\n",
       "    <tr>\n",
       "      <th>3</th>\n",
       "      <td>4</td>\n",
       "      <td>great location nice surroundings bar restauran...</td>\n",
       "      <td>room dirty afraid walk barefoot floor look cle...</td>\n",
       "    </tr>\n",
       "    <tr>\n",
       "      <th>4</th>\n",
       "      <td>7</td>\n",
       "      <td>amaze location building romantic setting</td>\n",
       "      <td>book company line show picture room think get ...</td>\n",
       "    </tr>\n",
       "  </tbody>\n",
       "</table>\n",
       "</div>"
      ],
      "text/plain": [
       "   Reviewer_Score                                     Pos_lemmatized  \\\n",
       "0               3                       park outside hotel beautiful   \n",
       "1               8  no real complaint hotel great great location s...   \n",
       "2               7  location good staff ok cute hotel breakfast ra...   \n",
       "3               4  great location nice surroundings bar restauran...   \n",
       "4               7           amaze location building romantic setting   \n",
       "\n",
       "                                      Neg_lemmatized  \n",
       "0  angry make post available via possible site us...  \n",
       "1                                        no negative  \n",
       "2  room nice elderly bit difficult room two story...  \n",
       "3  room dirty afraid walk barefoot floor look cle...  \n",
       "4  book company line show picture room think get ...  "
      ]
     },
     "execution_count": 15,
     "metadata": {},
     "output_type": "execute_result"
    }
   ],
   "source": [
    "reviews.head()"
   ]
  },
  {
   "cell_type": "markdown",
   "id": "c055ddae",
   "metadata": {},
   "source": [
    "Next up, we join both the positive and negative reviews in a new column."
   ]
  },
  {
   "cell_type": "code",
   "execution_count": 16,
   "id": "ffa29f56",
   "metadata": {},
   "outputs": [
    {
     "name": "stderr",
     "output_type": "stream",
     "text": [
      "C:\\Users\\hanna\\AppData\\Local\\Temp/ipykernel_12016/4137053768.py:1: SettingWithCopyWarning: \n",
      "A value is trying to be set on a copy of a slice from a DataFrame.\n",
      "Try using .loc[row_indexer,col_indexer] = value instead\n",
      "\n",
      "See the caveats in the documentation: https://pandas.pydata.org/pandas-docs/stable/user_guide/indexing.html#returning-a-view-versus-a-copy\n",
      "  reviews['review'] = reviews[['Pos_lemmatized', 'Neg_lemmatized']].agg(' '.join, axis=1)\n"
     ]
    }
   ],
   "source": [
    "reviews['review'] = reviews[['Pos_lemmatized', 'Neg_lemmatized']].agg(' '.join, axis=1)"
   ]
  },
  {
   "cell_type": "code",
   "execution_count": 17,
   "id": "951054b4",
   "metadata": {},
   "outputs": [
    {
     "data": {
      "text/html": [
       "<div>\n",
       "<style scoped>\n",
       "    .dataframe tbody tr th:only-of-type {\n",
       "        vertical-align: middle;\n",
       "    }\n",
       "\n",
       "    .dataframe tbody tr th {\n",
       "        vertical-align: top;\n",
       "    }\n",
       "\n",
       "    .dataframe thead th {\n",
       "        text-align: right;\n",
       "    }\n",
       "</style>\n",
       "<table border=\"1\" class=\"dataframe\">\n",
       "  <thead>\n",
       "    <tr style=\"text-align: right;\">\n",
       "      <th></th>\n",
       "      <th>Reviewer_Score</th>\n",
       "      <th>Pos_lemmatized</th>\n",
       "      <th>Neg_lemmatized</th>\n",
       "      <th>review</th>\n",
       "    </tr>\n",
       "  </thead>\n",
       "  <tbody>\n",
       "    <tr>\n",
       "      <th>0</th>\n",
       "      <td>3</td>\n",
       "      <td>park outside hotel beautiful</td>\n",
       "      <td>angry make post available via possible site us...</td>\n",
       "      <td>park outside hotel beautiful angry make post a...</td>\n",
       "    </tr>\n",
       "    <tr>\n",
       "      <th>1</th>\n",
       "      <td>8</td>\n",
       "      <td>no real complaint hotel great great location s...</td>\n",
       "      <td>no negative</td>\n",
       "      <td>no real complaint hotel great great location s...</td>\n",
       "    </tr>\n",
       "    <tr>\n",
       "      <th>2</th>\n",
       "      <td>7</td>\n",
       "      <td>location good staff ok cute hotel breakfast ra...</td>\n",
       "      <td>room nice elderly bit difficult room two story...</td>\n",
       "      <td>location good staff ok cute hotel breakfast ra...</td>\n",
       "    </tr>\n",
       "    <tr>\n",
       "      <th>3</th>\n",
       "      <td>4</td>\n",
       "      <td>great location nice surroundings bar restauran...</td>\n",
       "      <td>room dirty afraid walk barefoot floor look cle...</td>\n",
       "      <td>great location nice surroundings bar restauran...</td>\n",
       "    </tr>\n",
       "    <tr>\n",
       "      <th>4</th>\n",
       "      <td>7</td>\n",
       "      <td>amaze location building romantic setting</td>\n",
       "      <td>book company line show picture room think get ...</td>\n",
       "      <td>amaze location building romantic setting book ...</td>\n",
       "    </tr>\n",
       "  </tbody>\n",
       "</table>\n",
       "</div>"
      ],
      "text/plain": [
       "   Reviewer_Score                                     Pos_lemmatized  \\\n",
       "0               3                       park outside hotel beautiful   \n",
       "1               8  no real complaint hotel great great location s...   \n",
       "2               7  location good staff ok cute hotel breakfast ra...   \n",
       "3               4  great location nice surroundings bar restauran...   \n",
       "4               7           amaze location building romantic setting   \n",
       "\n",
       "                                      Neg_lemmatized  \\\n",
       "0  angry make post available via possible site us...   \n",
       "1                                        no negative   \n",
       "2  room nice elderly bit difficult room two story...   \n",
       "3  room dirty afraid walk barefoot floor look cle...   \n",
       "4  book company line show picture room think get ...   \n",
       "\n",
       "                                              review  \n",
       "0  park outside hotel beautiful angry make post a...  \n",
       "1  no real complaint hotel great great location s...  \n",
       "2  location good staff ok cute hotel breakfast ra...  \n",
       "3  great location nice surroundings bar restauran...  \n",
       "4  amaze location building romantic setting book ...  "
      ]
     },
     "execution_count": 17,
     "metadata": {},
     "output_type": "execute_result"
    }
   ],
   "source": [
    "reviews.head()"
   ]
  },
  {
   "cell_type": "code",
   "execution_count": 18,
   "id": "a0fa72bb",
   "metadata": {},
   "outputs": [
    {
     "name": "stderr",
     "output_type": "stream",
     "text": [
      "C:\\Users\\hanna\\anaconda3\\lib\\site-packages\\pandas\\core\\frame.py:4906: SettingWithCopyWarning: \n",
      "A value is trying to be set on a copy of a slice from a DataFrame\n",
      "\n",
      "See the caveats in the documentation: https://pandas.pydata.org/pandas-docs/stable/user_guide/indexing.html#returning-a-view-versus-a-copy\n",
      "  return super().drop(\n"
     ]
    }
   ],
   "source": [
    "reviews.drop(['Pos_lemmatized'], axis = 1, inplace = True)\n",
    "reviews.drop(['Neg_lemmatized'], axis = 1, inplace = True)"
   ]
  },
  {
   "cell_type": "code",
   "execution_count": 19,
   "id": "82f976c1",
   "metadata": {},
   "outputs": [
    {
     "data": {
      "text/html": [
       "<div>\n",
       "<style scoped>\n",
       "    .dataframe tbody tr th:only-of-type {\n",
       "        vertical-align: middle;\n",
       "    }\n",
       "\n",
       "    .dataframe tbody tr th {\n",
       "        vertical-align: top;\n",
       "    }\n",
       "\n",
       "    .dataframe thead th {\n",
       "        text-align: right;\n",
       "    }\n",
       "</style>\n",
       "<table border=\"1\" class=\"dataframe\">\n",
       "  <thead>\n",
       "    <tr style=\"text-align: right;\">\n",
       "      <th></th>\n",
       "      <th>Reviewer_Score</th>\n",
       "      <th>review</th>\n",
       "    </tr>\n",
       "  </thead>\n",
       "  <tbody>\n",
       "    <tr>\n",
       "      <th>0</th>\n",
       "      <td>3</td>\n",
       "      <td>park outside hotel beautiful angry make post a...</td>\n",
       "    </tr>\n",
       "    <tr>\n",
       "      <th>1</th>\n",
       "      <td>8</td>\n",
       "      <td>no real complaint hotel great great location s...</td>\n",
       "    </tr>\n",
       "    <tr>\n",
       "      <th>2</th>\n",
       "      <td>7</td>\n",
       "      <td>location good staff ok cute hotel breakfast ra...</td>\n",
       "    </tr>\n",
       "    <tr>\n",
       "      <th>3</th>\n",
       "      <td>4</td>\n",
       "      <td>great location nice surroundings bar restauran...</td>\n",
       "    </tr>\n",
       "    <tr>\n",
       "      <th>4</th>\n",
       "      <td>7</td>\n",
       "      <td>amaze location building romantic setting book ...</td>\n",
       "    </tr>\n",
       "  </tbody>\n",
       "</table>\n",
       "</div>"
      ],
      "text/plain": [
       "   Reviewer_Score                                             review\n",
       "0               3  park outside hotel beautiful angry make post a...\n",
       "1               8  no real complaint hotel great great location s...\n",
       "2               7  location good staff ok cute hotel breakfast ra...\n",
       "3               4  great location nice surroundings bar restauran...\n",
       "4               7  amaze location building romantic setting book ..."
      ]
     },
     "execution_count": 19,
     "metadata": {},
     "output_type": "execute_result"
    }
   ],
   "source": [
    "reviews.head()"
   ]
  },
  {
   "cell_type": "markdown",
   "id": "eaa2084b",
   "metadata": {},
   "source": [
    "If the score is 7.5 or higher, it marks it as 1 - Positive Review Score, otherwise a Negative Review Score is assigned. "
   ]
  },
  {
   "cell_type": "code",
   "execution_count": 20,
   "id": "3c2ec48c",
   "metadata": {},
   "outputs": [
    {
     "name": "stderr",
     "output_type": "stream",
     "text": [
      "C:\\Users\\hanna\\AppData\\Local\\Temp/ipykernel_12016/2454791991.py:1: SettingWithCopyWarning: \n",
      "A value is trying to be set on a copy of a slice from a DataFrame.\n",
      "Try using .loc[row_indexer,col_indexer] = value instead\n",
      "\n",
      "See the caveats in the documentation: https://pandas.pydata.org/pandas-docs/stable/user_guide/indexing.html#returning-a-view-versus-a-copy\n",
      "  reviews[\"Reviewer_Score\"] = reviews[\"Reviewer_Score\"].apply(lambda x: 1 if x > 7.4 else 0)\n"
     ]
    }
   ],
   "source": [
    "reviews[\"Reviewer_Score\"] = reviews[\"Reviewer_Score\"].apply(lambda x: 1 if x > 7.4 else 0)"
   ]
  },
  {
   "cell_type": "code",
   "execution_count": 21,
   "id": "63b9d6fc",
   "metadata": {},
   "outputs": [
    {
     "data": {
      "text/plain": [
       "1    0.782609\n",
       "0    0.217391\n",
       "Name: Reviewer_Score, dtype: float64"
      ]
     },
     "execution_count": 21,
     "metadata": {},
     "output_type": "execute_result"
    }
   ],
   "source": [
    "reviews[\"Reviewer_Score\"].value_counts(normalize = True)"
   ]
  },
  {
   "cell_type": "markdown",
   "id": "c3a03be4",
   "metadata": {},
   "source": [
    "Because in a lot of the spaces we saw no reviews, so instead of having No Positive/Negative that can affect our model, let us replace that with empty space."
   ]
  },
  {
   "cell_type": "code",
   "execution_count": 22,
   "id": "2963075e",
   "metadata": {},
   "outputs": [
    {
     "name": "stderr",
     "output_type": "stream",
     "text": [
      "C:\\Users\\hanna\\AppData\\Local\\Temp/ipykernel_12016/2677648345.py:1: SettingWithCopyWarning: \n",
      "A value is trying to be set on a copy of a slice from a DataFrame.\n",
      "Try using .loc[row_indexer,col_indexer] = value instead\n",
      "\n",
      "See the caveats in the documentation: https://pandas.pydata.org/pandas-docs/stable/user_guide/indexing.html#returning-a-view-versus-a-copy\n",
      "  reviews[\"review\"] = reviews[\"review\"].apply(lambda x: x.replace(\"No Negative\", \"\").replace(\"No Positive\", \"\"))\n"
     ]
    }
   ],
   "source": [
    "reviews[\"review\"] = reviews[\"review\"].apply(lambda x: x.replace(\"No Negative\", \"\").replace(\"No Positive\", \"\"))\n"
   ]
  },
  {
   "cell_type": "code",
   "execution_count": 23,
   "id": "6a1fd2a0",
   "metadata": {},
   "outputs": [
    {
     "data": {
      "text/html": [
       "<div>\n",
       "<style scoped>\n",
       "    .dataframe tbody tr th:only-of-type {\n",
       "        vertical-align: middle;\n",
       "    }\n",
       "\n",
       "    .dataframe tbody tr th {\n",
       "        vertical-align: top;\n",
       "    }\n",
       "\n",
       "    .dataframe thead th {\n",
       "        text-align: right;\n",
       "    }\n",
       "</style>\n",
       "<table border=\"1\" class=\"dataframe\">\n",
       "  <thead>\n",
       "    <tr style=\"text-align: right;\">\n",
       "      <th></th>\n",
       "      <th>Reviewer_Score</th>\n",
       "      <th>review</th>\n",
       "    </tr>\n",
       "  </thead>\n",
       "  <tbody>\n",
       "    <tr>\n",
       "      <th>0</th>\n",
       "      <td>0</td>\n",
       "      <td>park outside hotel beautiful angry make post a...</td>\n",
       "    </tr>\n",
       "    <tr>\n",
       "      <th>1</th>\n",
       "      <td>1</td>\n",
       "      <td>no real complaint hotel great great location s...</td>\n",
       "    </tr>\n",
       "    <tr>\n",
       "      <th>2</th>\n",
       "      <td>0</td>\n",
       "      <td>location good staff ok cute hotel breakfast ra...</td>\n",
       "    </tr>\n",
       "    <tr>\n",
       "      <th>3</th>\n",
       "      <td>0</td>\n",
       "      <td>great location nice surroundings bar restauran...</td>\n",
       "    </tr>\n",
       "    <tr>\n",
       "      <th>4</th>\n",
       "      <td>0</td>\n",
       "      <td>amaze location building romantic setting book ...</td>\n",
       "    </tr>\n",
       "  </tbody>\n",
       "</table>\n",
       "</div>"
      ],
      "text/plain": [
       "   Reviewer_Score                                             review\n",
       "0               0  park outside hotel beautiful angry make post a...\n",
       "1               1  no real complaint hotel great great location s...\n",
       "2               0  location good staff ok cute hotel breakfast ra...\n",
       "3               0  great location nice surroundings bar restauran...\n",
       "4               0  amaze location building romantic setting book ..."
      ]
     },
     "execution_count": 23,
     "metadata": {},
     "output_type": "execute_result"
    }
   ],
   "source": [
    "reviews.head()"
   ]
  },
  {
   "cell_type": "markdown",
   "id": "f2667988",
   "metadata": {},
   "source": [
    "#### Train/Test Split"
   ]
  },
  {
   "cell_type": "markdown",
   "id": "d90da29c",
   "metadata": {},
   "source": [
    "We create a train/test split so we can use a vectorizer to transform our text data into a vector to create a generic model to start with. "
   ]
  },
  {
   "cell_type": "markdown",
   "id": "ee418f07",
   "metadata": {},
   "source": [
    "from sklearn.model_selection import train_test_split\n",
    "\n",
    "X_train, X_value = train_test_split(reviews, stratify = reviews['Reviewer_Score'], test_size = 0.25, random_state = 0)"
   ]
  },
  {
   "cell_type": "code",
   "execution_count": 26,
   "id": "4cbe7715",
   "metadata": {},
   "outputs": [
    {
     "data": {
      "text/plain": [
       "1    0.782608\n",
       "0    0.217392\n",
       "Name: Reviewer_Score, dtype: float64"
      ]
     },
     "execution_count": 26,
     "metadata": {},
     "output_type": "execute_result"
    }
   ],
   "source": [
    "X_train['Reviewer_Score'].value_counts(normalize = True)"
   ]
  },
  {
   "cell_type": "code",
   "execution_count": 27,
   "id": "bb2b1355",
   "metadata": {},
   "outputs": [
    {
     "data": {
      "text/plain": [
       "1    0.782611\n",
       "0    0.217389\n",
       "Name: Reviewer_Score, dtype: float64"
      ]
     },
     "execution_count": 27,
     "metadata": {},
     "output_type": "execute_result"
    }
   ],
   "source": [
    "X_value['Reviewer_Score'].value_counts(normalize = True)"
   ]
  },
  {
   "cell_type": "markdown",
   "id": "86d9e778",
   "metadata": {},
   "source": [
    "#### Vectorization "
   ]
  },
  {
   "cell_type": "code",
   "execution_count": 28,
   "id": "88bb5b1a",
   "metadata": {},
   "outputs": [
    {
     "name": "stdout",
     "output_type": "stream",
     "text": [
      "Train Vector Shape\n",
      "(386803, 64132)\n",
      "Test Vector Shape\n",
      "(128935, 64132)\n",
      "Wall time: 21.5 s\n"
     ]
    },
    {
     "data": {
      "text/plain": [
       "dtype('int64')"
      ]
     },
     "execution_count": 28,
     "metadata": {},
     "output_type": "execute_result"
    }
   ],
   "source": [
    "%%time\n",
    "from sklearn.feature_extraction.text import CountVectorizer\n",
    "\n",
    "# Initialize a CountVectorizer object: count_vectorizer\n",
    "count_vectorizer = CountVectorizer()\n",
    "\n",
    "count_vectorizer.fit(X_train['review'])\n",
    "\n",
    "train_cv_vectors = count_vectorizer.transform(X_train['review'])\n",
    "test_cv_vectors = count_vectorizer.transform(X_value['review'])\n",
    "\n",
    "print(\"Train Vector Shape\")\n",
    "print(train_cv_vectors.shape)\n",
    "print(\"Test Vector Shape\")\n",
    "print(test_cv_vectors.shape)\n",
    "\n",
    "# Print the first 10 features of the count_vec\n",
    "# print(\"Every feature:\\n{}\".formMat(count_vectorizer.get_feature_names()))\n",
    "list(count_vectorizer.vocabulary_)[:10]\n",
    "\n",
    "\n",
    "train_cv_vectors.dtype"
   ]
  },
  {
   "cell_type": "code",
   "execution_count": 29,
   "id": "5eca0982",
   "metadata": {},
   "outputs": [
    {
     "name": "stdout",
     "output_type": "stream",
     "text": [
      "Train Vector Shape\n",
      "(386803, 64132)\n",
      "Test Vector Shape\n",
      "(128935, 64132)\n",
      "Wall time: 22.4 s\n"
     ]
    },
    {
     "data": {
      "text/plain": [
       "['minibar',\n",
       " 'fruit',\n",
       " 'basket',\n",
       " 'clean',\n",
       " 'sheet',\n",
       " 'toilet',\n",
       " 'no',\n",
       " 'negative',\n",
       " 'hotel',\n",
       " 'reception']"
      ]
     },
     "execution_count": 29,
     "metadata": {},
     "output_type": "execute_result"
    }
   ],
   "source": [
    "%%time\n",
    "from sklearn.feature_extraction.text import TfidfVectorizer\n",
    "\n",
    "# word level\n",
    "tfidf = TfidfVectorizer(analyzer='word')\n",
    "\n",
    "tfidf.fit(X_train['review'])\n",
    "\n",
    "train_tf_vector = tfidf.transform(X_train['review'])\n",
    "test_tf_vector = tfidf.transform(X_value[\"review\"])\n",
    "\n",
    "print(\"Train Vector Shape\")\n",
    "print(train_tf_vector.shape)\n",
    "print(\"Test Vector Shape\")\n",
    "print(test_tf_vector.shape)\n",
    "\n",
    "list(tfidf.vocabulary_)[:10]"
   ]
  },
  {
   "cell_type": "code",
   "execution_count": 30,
   "id": "1a097804",
   "metadata": {},
   "outputs": [
    {
     "name": "stdout",
     "output_type": "stream",
     "text": [
      "Train Vector Shape\n",
      "(386803, 10000)\n",
      "Test Vector Shape\n",
      "(128935, 10000)\n",
      "Wall time: 9.57 s\n"
     ]
    }
   ],
   "source": [
    "%%time\n",
    "from sklearn.feature_extraction.text import HashingVectorizer\n",
    "\n",
    "hash_vectorizer = HashingVectorizer(n_features=10000,norm=None,alternate_sign=False)\n",
    "hash_vectorizer.fit(X_train['review'])\n",
    "\n",
    "train_hash_vectors = hash_vectorizer.transform(X_train['review'])\n",
    "test_hash_vectors = hash_vectorizer.transform(X_value['review'])\n",
    "\n",
    "print(\"Train Vector Shape\")\n",
    "print(train_hash_vectors.shape)\n",
    "print(\"Test Vector Shape\")\n",
    "print(test_hash_vectors.shape)\n",
    "\n",
    "# list(hash_vectorizer.vocabulary_)[:10]"
   ]
  },
  {
   "cell_type": "markdown",
   "id": "6a1d3773",
   "metadata": {},
   "source": [
    "#### Generic Model - with CV"
   ]
  },
  {
   "cell_type": "code",
   "execution_count": 31,
   "id": "d12fa5a1",
   "metadata": {},
   "outputs": [
    {
     "name": "stdout",
     "output_type": "stream",
     "text": [
      "\n",
      "\n",
      "[Test] Accuracy score (y_predict_test, y_test): 0.8530344747353318\n"
     ]
    },
    {
     "data": {
      "image/png": "[encoded data removed]",
      "text/plain": [
       "<Figure size 720x720 with 1 Axes>"
      ]
     },
     "metadata": {
      "needs_background": "light"
     },
     "output_type": "display_data"
    },
    {
     "data": {
      "image/png": "[encoded data removed]",
      "text/plain": [
       "<Figure size 360x360 with 2 Axes>"
      ]
     },
     "metadata": {
      "needs_background": "light"
     },
     "output_type": "display_data"
    },
    {
     "name": "stdout",
     "output_type": "stream",
     "text": [
      "[Test Classification Report]\n",
      "              precision    recall  f1-score   support\n",
      "\n",
      "           0       0.73      0.52      0.61     28029\n",
      "           1       0.88      0.95      0.91    100906\n",
      "\n",
      "    accuracy                           0.85    128935\n",
      "   macro avg       0.80      0.73      0.76    128935\n",
      "weighted avg       0.84      0.85      0.84    128935\n",
      "\n",
      "Wall time: 1min 5s\n"
     ]
    }
   ],
   "source": [
    "%%time\n",
    "\n",
    "from sklearn.linear_model import LogisticRegression\n",
    "from sklearn import model_selection\n",
    "from sklearn.metrics import accuracy_score\n",
    "\n",
    "clf = LogisticRegression(max_iter = 999)\n",
    "\n",
    "# Fit the model on the training data.M\n",
    "clf.fit(train_cv_vectors, X_train['Reviewer_Score']) \n",
    "\n",
    "# Print the accuracy from the testing data.\n",
    "# AJS: introduce variable to be reused later\n",
    "y_predict_test_cv = clf.predict(test_cv_vectors)\n",
    "print(\"\\n\")\n",
    "print(\"[Test] Accuracy score (y_predict_test, y_test):\",accuracy_score(y_predict_test_cv, X_value['Reviewer_Score']))\n",
    "\n",
    "\n",
    "\n",
    "from sklearn.metrics import roc_curve, auc\n",
    "\n",
    "false_positive_rate, true_positive_rate, thresholds = roc_curve(X_value['Reviewer_Score'], y_predict_test_cv)\n",
    "\n",
    "roc_auc = auc(false_positive_rate, true_positive_rate)\n",
    "roc_auc\n",
    "\n",
    "\n",
    "\n",
    "\n",
    "import matplotlib.pyplot as plt\n",
    "plt.figure(figsize=(10,10))\n",
    "plt.title('Receiver Operating Characteristic')\n",
    "plt.plot(false_positive_rate,true_positive_rate, color='red',label = 'AUC = %0.2f' % roc_auc)\n",
    "plt.legend(loc = 'lower right')\n",
    "plt.plot([0, 1], [0, 1],linestyle='--')\n",
    "plt.axis('tight')\n",
    "plt.ylabel('True Positive Rate')\n",
    "plt.xlabel('False Positive Rate')\n",
    "\n",
    "\n",
    "\n",
    "\n",
    "from sklearn.metrics import confusion_matrix\n",
    "import seaborn as sns\n",
    "\n",
    "cm = confusion_matrix(X_value['Reviewer_Score'], y_predict_test_cv)\n",
    "\n",
    "f, ax=plt.subplots(figsize=(5,5))\n",
    "sns.heatmap(cm, annot = True, linewidths = 0.5, linecolor = \"red\", fmt = \".0f\",ax = ax)\n",
    "plt.xlabel(\"y_pred\")\n",
    "plt.ylabel(\"y_true\")\n",
    "plt.show()\n",
    "\n",
    "\n",
    "from sklearn.metrics import classification_report\n",
    "\n",
    "print(\"[Test Classification Report]\")\n",
    "print(classification_report(X_value['Reviewer_Score'], y_predict_test_cv))"
   ]
  },
  {
   "cell_type": "markdown",
   "id": "71c0b176",
   "metadata": {},
   "source": [
    "#### Generic Model - with TF-IDF"
   ]
  },
  {
   "cell_type": "code",
   "execution_count": 32,
   "id": "b3cfb8bf",
   "metadata": {},
   "outputs": [
    {
     "name": "stdout",
     "output_type": "stream",
     "text": [
      "\n",
      "\n",
      "[Test] Accuracy score (y_predict_test, y_test): 0.8555008337534417\n"
     ]
    },
    {
     "data": {
      "image/png": "[encoded data removed]",
      "text/plain": [
       "<Figure size 720x720 with 1 Axes>"
      ]
     },
     "metadata": {
      "needs_background": "light"
     },
     "output_type": "display_data"
    },
    {
     "data": {
      "image/png": "[encoded data removed]",
      "text/plain": [
       "<Figure size 360x360 with 2 Axes>"
      ]
     },
     "metadata": {
      "needs_background": "light"
     },
     "output_type": "display_data"
    },
    {
     "name": "stdout",
     "output_type": "stream",
     "text": [
      "[Test Classification Report]\n",
      "              precision    recall  f1-score   support\n",
      "\n",
      "           0       0.72      0.54      0.62     28029\n",
      "           1       0.88      0.94      0.91    100906\n",
      "\n",
      "    accuracy                           0.86    128935\n",
      "   macro avg       0.80      0.74      0.77    128935\n",
      "weighted avg       0.85      0.86      0.85    128935\n",
      "\n",
      "Wall time: 30.2 s\n"
     ]
    }
   ],
   "source": [
    "%%time\n",
    "\n",
    "clf = LogisticRegression(max_iter = 999)\n",
    "\n",
    "# Fit the model on the training data.\n",
    "clf.fit(train_tf_vector, X_train['Reviewer_Score']) \n",
    "\n",
    "# Print the accuracy from the testing data.\n",
    "# AJS: introduce variable to be reused later\n",
    "y_predict_test_tf = clf.predict(test_tf_vector)\n",
    "print(\"\\n\")\n",
    "print(\"[Test] Accuracy score (y_predict_test, y_test):\",accuracy_score(y_predict_test_tf, X_value['Reviewer_Score']))\n",
    "\n",
    "\n",
    "\n",
    "\n",
    "false_positive_rate, true_positive_rate, thresholds = roc_curve(X_value['Reviewer_Score'], y_predict_test_tf)\n",
    "\n",
    "roc_auc = auc(false_positive_rate, true_positive_rate)\n",
    "roc_auc\n",
    "\n",
    "\n",
    "\n",
    "\n",
    "plt.figure(figsize=(10,10))\n",
    "plt.title('Receiver Operating Characteristic')\n",
    "plt.plot(false_positive_rate,true_positive_rate, color='red',label = 'AUC = %0.2f' % roc_auc)\n",
    "plt.legend(loc = 'lower right')\n",
    "plt.plot([0, 1], [0, 1],linestyle='--')\n",
    "plt.axis('tight')\n",
    "plt.ylabel('True Positive Rate')\n",
    "plt.xlabel('False Positive Rate')\n",
    "\n",
    "\n",
    "\n",
    "\n",
    "\n",
    "cm = confusion_matrix(X_value['Reviewer_Score'], y_predict_test_tf)\n",
    "\n",
    "f, ax=plt.subplots(figsize=(5,5))\n",
    "sns.heatmap(cm, annot = True, linewidths = 0.5, linecolor = \"red\", fmt = \".0f\",ax = ax)\n",
    "plt.xlabel(\"y_pred\")\n",
    "plt.ylabel(\"y_true\")\n",
    "plt.show()\n",
    "\n",
    "\n",
    "\n",
    "\n",
    "from sklearn.metrics import classification_report\n",
    "\n",
    "print(\"[Test Classification Report]\")\n",
    "print(classification_report(X_value['Reviewer_Score'], y_predict_test_tf))"
   ]
  },
  {
   "cell_type": "code",
   "execution_count": 36,
   "id": "0dc14f4a",
   "metadata": {},
   "outputs": [],
   "source": [
    "#### Generic Model - with Hash Vectorization"
   ]
  },
  {
   "cell_type": "code",
   "execution_count": 33,
   "id": "31a5a8c5",
   "metadata": {},
   "outputs": [
    {
     "name": "stdout",
     "output_type": "stream",
     "text": [
      "\n",
      "\n",
      "[Test] Accuracy score (y_predict_test, y_test): 0.8500794974211812\n",
      "roc_auc is:\n",
      "0.7421018886876974\n"
     ]
    },
    {
     "data": {
      "image/png": "[encoded data removed]",
      "text/plain": [
       "<Figure size 720x720 with 1 Axes>"
      ]
     },
     "metadata": {
      "needs_background": "light"
     },
     "output_type": "display_data"
    },
    {
     "data": {
      "image/png": "[encoded data removed]",
      "text/plain": [
       "<Figure size 360x360 with 2 Axes>"
      ]
     },
     "metadata": {
      "needs_background": "light"
     },
     "output_type": "display_data"
    },
    {
     "name": "stdout",
     "output_type": "stream",
     "text": [
      "[Test Classification Report]\n",
      "              precision    recall  f1-score   support\n",
      "\n",
      "           0       0.72      0.50      0.59     28029\n",
      "           1       0.87      0.95      0.91    100906\n",
      "\n",
      "    accuracy                           0.85    128935\n",
      "   macro avg       0.80      0.72      0.75    128935\n",
      "weighted avg       0.84      0.85      0.84    128935\n",
      "\n",
      "Done\n",
      "Wall time: 51.4 s\n"
     ]
    }
   ],
   "source": [
    "%%time\n",
    "\n",
    "clf = LogisticRegression(max_iter = 999)\n",
    "\n",
    "# Fit the model on the training data.\n",
    "clf.fit(train_hash_vectors, X_train['Reviewer_Score']) \n",
    "\n",
    "# Print the accuracy from the testing data.\n",
    "# AJS: introduce variable to be reused later\n",
    "y_predict_test_hash = clf.predict(test_hash_vectors)\n",
    "print(\"\\n\")\n",
    "print(\"[Test] Accuracy score (y_predict_test, y_test):\",accuracy_score(y_predict_test_hash, X_value['Reviewer_Score']))\n",
    "\n",
    "from sklearn.metrics import roc_curve, auc\n",
    "\n",
    "false_positive_rate, true_positive_rate, thresholds = roc_curve(X_value['Reviewer_Score'], y_predict_test_tf)\n",
    "\n",
    "roc_auc = auc(false_positive_rate, true_positive_rate)\n",
    "print(\"roc_auc is:\")\n",
    "print(roc_auc)\n",
    "\n",
    "plt.figure(figsize=(10,10))\n",
    "plt.title('Receiver Operating Characteristic')\n",
    "plt.plot(false_positive_rate,true_positive_rate, color='red',label = 'AUC = %0.2f' % roc_auc)\n",
    "plt.legend(loc = 'lower right')\n",
    "plt.plot([0, 1], [0, 1],linestyle='--')\n",
    "plt.axis('tight')\n",
    "plt.ylabel('True Positive Rate')\n",
    "plt.xlabel('False Positive Rate')\n",
    "\n",
    "cm = confusion_matrix(X_value['Reviewer_Score'], y_predict_test_hash)\n",
    "\n",
    "f, ax=plt.subplots(figsize=(5,5))\n",
    "sns.heatmap(cm, annot = True, linewidths = 0.5, linecolor = \"red\", fmt = \".0f\",ax = ax)\n",
    "plt.xlabel(\"y_pred\")\n",
    "plt.ylabel(\"y_true\")\n",
    "plt.show()\n",
    "\n",
    "from sklearn.metrics import classification_report\n",
    "\n",
    "print(\"[Test Classification Report]\")\n",
    "print(classification_report(X_value['Reviewer_Score'], y_predict_test_hash))\n",
    "print(\"Done\")"
   ]
  },
  {
   "cell_type": "code",
   "execution_count": 34,
   "id": "a525c36b",
   "metadata": {},
   "outputs": [],
   "source": [
    "# %%time\n",
    "# train_cv_df = pd.DataFrame.sparse.from_spmatrix(train_cv_vectors)   \n",
    "# test_cv_df = pd.DataFrame.sparse.from_spmatrix(test_cv_vectors)\n",
    "\n",
    "# train_tf_df = pd.DataFrame.sparse.from_spmatrix(train_tf_vector)\n",
    "# test_tf_df = pd.DataFrame.sparse.from_spmatrix(test_tf_vector)\n",
    "\n",
    "# train_hash_df = pd.DataFrame.sparse.from_spmatrix(train_hash_vectors)\n",
    "# test_hash_df = pd.DataFrame.sparse.from_spmatrix(test_hash_vectors)\n"
   ]
  },
  {
   "cell_type": "code",
   "execution_count": 35,
   "id": "c089abd9",
   "metadata": {},
   "outputs": [],
   "source": [
    "# %%time\n",
    "\n",
    "# train_cv_df.to_csv('C:\\\\Users\\\\hanna\\\\OneDrive\\\\Desktop\\\\All Folders\\\\Data Science\\\\SpringBoard\\\\Capstone 3\\\\Pre-processing-notebooks\\\\train_cv_df.csv', index = # False)\n",
    "# test_cv_df.to_csv('C:\\\\Users\\\\hanna\\\\OneDrive\\\\Desktop\\\\All Folders\\\\Data Science\\\\SpringBoard\\\\Capstone 3\\\\Pre-processing-notebooks\\\\test_cv_df.csv', index = # False)\n",
    "\n",
    "\n",
    "# train_tf_df.to_csv('C:\\\\Users\\\\hanna\\\\OneDrive\\\\Desktop\\\\All Folders\\\\Data Science\\\\SpringBoard\\\\Capstone 3\\\\Pre-processing-notebooks\\\\train_tf_df.csv', index = False)\n",
    "# test_tf_df.to_csv('C:\\\\Users\\\\hanna\\\\OneDrive\\\\Desktop\\\\All Folders\\\\Data Science\\\\SpringBoard\\\\Capstone 3\\\\Pre-processing-notebooks\\\\test_tf_df.csv', index = False)\n",
    "\n",
    "# train_hash_df.to_csv('C:\\\\Users\\\\hanna\\\\OneDrive\\\\Desktop\\\\All Folders\\\\Data Science\\\\SpringBoard\\\\Capstone 3\\\\Pre-processing-notebooks\\\\train_hash_df.csv', index = False)\n",
    "# test_hash_df.to_csv('C:\\\\Users\\\\hanna\\\\OneDrive\\\\Desktop\\\\All Folders\\\\Data Science\\\\SpringBoard\\\\Capstone 3\\\\Pre-processing-notebooks\\\\test_hash_df.csv', index = False)\n"
   ]
  },
  {
   "cell_type": "markdown",
   "id": "e8d90873",
   "metadata": {},
   "source": [
    "The method of a model we are interested in is Recall Method. We want to be sure that our model is doing a great a job at finding false negatives as we do not want to affect the hotels ratings because of our model. \n",
    "\n",
    "In this generic case, we see that our model is overfitting and the desired score for recall is not ideal, it is 0.5. \n",
    "\n",
    "This is a sign that we are on the right track, we just need to clean the textual data more before creating a model. "
   ]
  },
  {
   "cell_type": "code",
   "execution_count": null,
   "id": "070b4c79",
   "metadata": {},
   "outputs": [],
   "source": []
  }
 ],
 "metadata": {
  "kernelspec": {
   "display_name": "Python 3 (ipykernel)",
   "language": "python",
   "name": "python3"
  },
  "language_info": {
   "codemirror_mode": {
    "name": "ipython",
    "version": 3
   },
   "file_extension": ".py",
   "mimetype": "text/x-python",
   "name": "python",
   "nbconvert_exporter": "python",
   "pygments_lexer": "ipython3",
   "version": "3.9.7"
  }
 },
 "nbformat": 4,
 "nbformat_minor": 5
}
